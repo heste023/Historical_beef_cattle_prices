{
 "cells": [
  {
   "cell_type": "code",
   "execution_count": 1,
   "id": "worth-marine",
   "metadata": {},
   "outputs": [],
   "source": [
    "# imports\n",
    "import os\n",
    "import glob\n",
    "import numpy as np\n",
    "import pandas as pd \n",
    "import altair as alt\n",
    "# import altair_viewer"
   ]
  },
  {
   "cell_type": "code",
   "execution_count": 2,
   "id": "varied-murray",
   "metadata": {},
   "outputs": [
    {
     "name": "stdout",
     "output_type": "stream",
     "text": [
      "C:/Users/jacob.hester/Documents/Python_scripts/Historical_beef_cattle_prices/data/processed\\2004_prices.csv\n",
      "C:/Users/jacob.hester/Documents/Python_scripts/Historical_beef_cattle_prices/data/processed\\2005_prices.csv\n",
      "C:/Users/jacob.hester/Documents/Python_scripts/Historical_beef_cattle_prices/data/processed\\2006_prices.csv\n",
      "C:/Users/jacob.hester/Documents/Python_scripts/Historical_beef_cattle_prices/data/processed\\2007_prices.csv\n",
      "C:/Users/jacob.hester/Documents/Python_scripts/Historical_beef_cattle_prices/data/processed\\2008_prices.csv\n",
      "C:/Users/jacob.hester/Documents/Python_scripts/Historical_beef_cattle_prices/data/processed\\2009_prices.csv\n",
      "C:/Users/jacob.hester/Documents/Python_scripts/Historical_beef_cattle_prices/data/processed\\2011_prices.csv\n",
      "C:/Users/jacob.hester/Documents/Python_scripts/Historical_beef_cattle_prices/data/processed\\2012_prices.csv\n",
      "C:/Users/jacob.hester/Documents/Python_scripts/Historical_beef_cattle_prices/data/processed\\2013_prices.csv\n",
      "C:/Users/jacob.hester/Documents/Python_scripts/Historical_beef_cattle_prices/data/processed\\2014_prices.csv\n",
      "C:/Users/jacob.hester/Documents/Python_scripts/Historical_beef_cattle_prices/data/processed\\2015_prices.csv\n",
      "C:/Users/jacob.hester/Documents/Python_scripts/Historical_beef_cattle_prices/data/processed\\2016_prices.csv\n",
      "C:/Users/jacob.hester/Documents/Python_scripts/Historical_beef_cattle_prices/data/processed\\2017_prices.csv\n",
      "C:/Users/jacob.hester/Documents/Python_scripts/Historical_beef_cattle_prices/data/processed\\2018_prices.csv\n"
     ]
    }
   ],
   "source": [
    "# load in dataframes and concatenate together\n",
    "path = (\n",
    "    \"C:/Users/jacob.hester/Documents/Python_scripts/\"\\\n",
    "    \"Historical_beef_cattle_prices/data/processed\"\n",
    "    )\n",
    "raw_files_path = os.path.join(path, \"*.csv\")\n",
    "df_list = []\n",
    "for f in glob.glob(raw_files_path):\n",
    "    print(f)\n",
    "    df = pd.read_csv(f, index_col=None, header=0)\n",
    "    df_list.append(df)\n",
    "df = pd.concat(df_list, ignore_index = True)"
   ]
  },
  {
   "cell_type": "code",
   "execution_count": 3,
   "id": "local-crack",
   "metadata": {},
   "outputs": [
    {
     "data": {
      "text/plain": [
       "Year              int64\n",
       "Type             object\n",
       "Weight_group     object\n",
       "Hd Cnt           object\n",
       "Jan             float64\n",
       "Feb             float64\n",
       "Mar             float64\n",
       "Apr             float64\n",
       "May             float64\n",
       "Jun             float64\n",
       "Jul             float64\n",
       "Aug             float64\n",
       "Sep             float64\n",
       "Oct             float64\n",
       "Nov             float64\n",
       "Dec             float64\n",
       "Avg             float64\n",
       "dtype: object"
      ]
     },
     "execution_count": 3,
     "metadata": {},
     "output_type": "execute_result"
    }
   ],
   "source": [
    "# check data types\n",
    "df.dtypes"
   ]
  },
  {
   "cell_type": "code",
   "execution_count": 4,
   "id": "cosmetic-generator",
   "metadata": {},
   "outputs": [],
   "source": [
    "# rename Hd Cnt col and change type \n",
    "# NOTE: column was read in as object type because of commas in head counts\n",
    "df.rename(columns = {'Hd Cnt' : 'Hd_cnt'}, inplace = True)\n",
    "df['Hd_cnt'] = df['Hd_cnt'].str.replace(',', '')\n",
    "data_types_dictionary = {'Hd_cnt' : float}\n",
    "df = df.astype(data_types_dictionary)"
   ]
  },
  {
   "cell_type": "code",
   "execution_count": 5,
   "id": "metallic-nudist",
   "metadata": {},
   "outputs": [
    {
     "data": {
      "text/plain": [
       "Year               0\n",
       "Type               0\n",
       "Weight_group       0\n",
       "Hd_cnt             0\n",
       "Jan             1546\n",
       "Feb             1527\n",
       "Mar             1468\n",
       "Apr             1444\n",
       "May             1533\n",
       "Jun             1533\n",
       "Jul             1685\n",
       "Aug             1544\n",
       "Sep             1557\n",
       "Oct             1459\n",
       "Nov             1553\n",
       "Dec             1683\n",
       "Avg                0\n",
       "dtype: int64"
      ]
     },
     "execution_count": 5,
     "metadata": {},
     "output_type": "execute_result"
    }
   ],
   "source": [
    "# check for missing values \n",
    "df.isnull().sum()"
   ]
  },
  {
   "cell_type": "code",
   "execution_count": 6,
   "id": "reliable-substitute",
   "metadata": {},
   "outputs": [],
   "source": [
    "# look at overall sales per year \n",
    "sales_per_yr_df = df.groupby(['Year'])['Hd_cnt'].sum()\n",
    "sales_per_yr_df = pd.DataFrame(sales_per_yr_df)\n",
    "sales_per_yr_df.reset_index(inplace = True)\n",
    "\n",
    "# change Year to datetime type \n",
    "sales_per_yr_df['Year'] = pd.to_datetime(\n",
    "    sales_per_yr_df['Year'].astype(str), format='%Y'\n",
    "    )"
   ]
  },
  {
   "cell_type": "code",
   "execution_count": 7,
   "id": "preceding-forwarding",
   "metadata": {},
   "outputs": [
    {
     "data": {
      "text/html": [
       "\n",
       "<div id=\"altair-viz-17e1596eb9ff41bc852fbb195f2f5a97\"></div>\n",
       "<script type=\"text/javascript\">\n",
       "  (function(spec, embedOpt){\n",
       "    let outputDiv = document.currentScript.previousElementSibling;\n",
       "    if (outputDiv.id !== \"altair-viz-17e1596eb9ff41bc852fbb195f2f5a97\") {\n",
       "      outputDiv = document.getElementById(\"altair-viz-17e1596eb9ff41bc852fbb195f2f5a97\");\n",
       "    }\n",
       "    const paths = {\n",
       "      \"vega\": \"https://cdn.jsdelivr.net/npm//vega@5?noext\",\n",
       "      \"vega-lib\": \"https://cdn.jsdelivr.net/npm//vega-lib?noext\",\n",
       "      \"vega-lite\": \"https://cdn.jsdelivr.net/npm//vega-lite@4.8.1?noext\",\n",
       "      \"vega-embed\": \"https://cdn.jsdelivr.net/npm//vega-embed@6?noext\",\n",
       "    };\n",
       "\n",
       "    function loadScript(lib) {\n",
       "      return new Promise(function(resolve, reject) {\n",
       "        var s = document.createElement('script');\n",
       "        s.src = paths[lib];\n",
       "        s.async = true;\n",
       "        s.onload = () => resolve(paths[lib]);\n",
       "        s.onerror = () => reject(`Error loading script: ${paths[lib]}`);\n",
       "        document.getElementsByTagName(\"head\")[0].appendChild(s);\n",
       "      });\n",
       "    }\n",
       "\n",
       "    function showError(err) {\n",
       "      outputDiv.innerHTML = `<div class=\"error\" style=\"color:red;\">${err}</div>`;\n",
       "      throw err;\n",
       "    }\n",
       "\n",
       "    function displayChart(vegaEmbed) {\n",
       "      vegaEmbed(outputDiv, spec, embedOpt)\n",
       "        .catch(err => showError(`Javascript Error: ${err.message}<br>This usually means there's a typo in your chart specification. See the javascript console for the full traceback.`));\n",
       "    }\n",
       "\n",
       "    if(typeof define === \"function\" && define.amd) {\n",
       "      requirejs.config({paths});\n",
       "      require([\"vega-embed\"], displayChart, err => showError(`Error loading script: ${err.message}`));\n",
       "    } else if (typeof vegaEmbed === \"function\") {\n",
       "      displayChart(vegaEmbed);\n",
       "    } else {\n",
       "      loadScript(\"vega\")\n",
       "        .then(() => loadScript(\"vega-lite\"))\n",
       "        .then(() => loadScript(\"vega-embed\"))\n",
       "        .catch(showError)\n",
       "        .then(() => displayChart(vegaEmbed));\n",
       "    }\n",
       "  })({\"config\": {\"view\": {\"continuousWidth\": 400, \"continuousHeight\": 300}, \"axisX\": {\"titleX\": 350, \"titleY\": 30}, \"axisY\": {\"titleAngle\": 0, \"titleX\": -100}, \"title\": {\"fontSize\": 18}}, \"data\": {\"name\": \"data-5ef0d256b55261ccc17a5012c5f8abd4\"}, \"mark\": {\"type\": \"bar\", \"size\": 20}, \"encoding\": {\"x\": {\"type\": \"temporal\", \"axis\": {\"titleFontSize\": 14}, \"field\": \"Year\", \"scale\": {\"domain\": [\"2003-01-01\", \"2019-01-01\"]}}, \"y\": {\"type\": \"quantitative\", \"axis\": {\"title\": \"Head Count\", \"titleFontSize\": 14}, \"field\": \"Hd_cnt\"}}, \"title\": {\"text\": \"Overall Sales Per Year\", \"subtitle\": \"Beef Cattle Sales in Alabama\"}, \"width\": 700, \"$schema\": \"https://vega.github.io/schema/vega-lite/v4.8.1.json\", \"datasets\": {\"data-5ef0d256b55261ccc17a5012c5f8abd4\": [{\"Year\": \"2004-01-01T00:00:00\", \"Hd_cnt\": 258941.0}, {\"Year\": \"2005-01-01T00:00:00\", \"Hd_cnt\": 329768.0}, {\"Year\": \"2006-01-01T00:00:00\", \"Hd_cnt\": 354616.0}, {\"Year\": \"2007-01-01T00:00:00\", \"Hd_cnt\": 338609.0}, {\"Year\": \"2008-01-01T00:00:00\", \"Hd_cnt\": 288527.0}, {\"Year\": \"2009-01-01T00:00:00\", \"Hd_cnt\": 288644.0}, {\"Year\": \"2011-01-01T00:00:00\", \"Hd_cnt\": 206549.0}, {\"Year\": \"2012-01-01T00:00:00\", \"Hd_cnt\": 184644.0}, {\"Year\": \"2013-01-01T00:00:00\", \"Hd_cnt\": 173344.0}, {\"Year\": \"2014-01-01T00:00:00\", \"Hd_cnt\": 234283.0}, {\"Year\": \"2015-01-01T00:00:00\", \"Hd_cnt\": 189736.0}, {\"Year\": \"2016-01-01T00:00:00\", \"Hd_cnt\": 212168.0}, {\"Year\": \"2017-01-01T00:00:00\", \"Hd_cnt\": 250606.0}, {\"Year\": \"2018-01-01T00:00:00\", \"Hd_cnt\": 242321.0}]}}, {\"mode\": \"vega-lite\"});\n",
       "</script>"
      ],
      "text/plain": [
       "alt.Chart(...)"
      ]
     },
     "execution_count": 7,
     "metadata": {},
     "output_type": "execute_result"
    }
   ],
   "source": [
    "# sales per year visual\n",
    "# alt.renderers.enable('altair_viewer')\n",
    "\n",
    "# add x index values for visual\n",
    "x_year_domain = ['2003-01-01', '2019-01-01']\n",
    "sales_per_year = alt.Chart(sales_per_yr_df).mark_bar(size = 20).encode(\n",
    "    x = alt.X(\n",
    "        'Year', \n",
    "        axis = alt.Axis(\n",
    "            titleFontSize = 14\n",
    "            ),\n",
    "        scale = alt.Scale(domain = x_year_domain)\n",
    "            ),\n",
    "    y = alt.Y(\n",
    "        'Hd_cnt', \n",
    "        axis = alt.Axis(\n",
    "            title = 'Head Count',\n",
    "            titleFontSize = 14\n",
    "            )\n",
    "        )\n",
    "    ).properties(\n",
    "            title = {\n",
    "                \"text\" : \"Overall Sales Per Year\",\n",
    "                \"subtitle\" : \"Beef Cattle Sales in Alabama\"\n",
    "                },\n",
    "            width = 700\n",
    "    ).configure_axisY(\n",
    "        titleAngle = 0,\n",
    "        titleX = -100,\n",
    "    ).configure_axisX(\n",
    "        titleX = 350,\n",
    "        titleY = 30\n",
    "    ).configure_title(\n",
    "        fontSize = 18   \n",
    "    )   \n",
    "sales_per_year"
   ]
  },
  {
   "cell_type": "code",
   "execution_count": 8,
   "id": "revised-frontier",
   "metadata": {},
   "outputs": [
    {
     "data": {
      "text/html": [
       "\n",
       "<div id=\"altair-viz-913ce8ad2a404884a3ff48f3e6d75ee1\"></div>\n",
       "<script type=\"text/javascript\">\n",
       "  (function(spec, embedOpt){\n",
       "    let outputDiv = document.currentScript.previousElementSibling;\n",
       "    if (outputDiv.id !== \"altair-viz-913ce8ad2a404884a3ff48f3e6d75ee1\") {\n",
       "      outputDiv = document.getElementById(\"altair-viz-913ce8ad2a404884a3ff48f3e6d75ee1\");\n",
       "    }\n",
       "    const paths = {\n",
       "      \"vega\": \"https://cdn.jsdelivr.net/npm//vega@5?noext\",\n",
       "      \"vega-lib\": \"https://cdn.jsdelivr.net/npm//vega-lib?noext\",\n",
       "      \"vega-lite\": \"https://cdn.jsdelivr.net/npm//vega-lite@4.8.1?noext\",\n",
       "      \"vega-embed\": \"https://cdn.jsdelivr.net/npm//vega-embed@6?noext\",\n",
       "    };\n",
       "\n",
       "    function loadScript(lib) {\n",
       "      return new Promise(function(resolve, reject) {\n",
       "        var s = document.createElement('script');\n",
       "        s.src = paths[lib];\n",
       "        s.async = true;\n",
       "        s.onload = () => resolve(paths[lib]);\n",
       "        s.onerror = () => reject(`Error loading script: ${paths[lib]}`);\n",
       "        document.getElementsByTagName(\"head\")[0].appendChild(s);\n",
       "      });\n",
       "    }\n",
       "\n",
       "    function showError(err) {\n",
       "      outputDiv.innerHTML = `<div class=\"error\" style=\"color:red;\">${err}</div>`;\n",
       "      throw err;\n",
       "    }\n",
       "\n",
       "    function displayChart(vegaEmbed) {\n",
       "      vegaEmbed(outputDiv, spec, embedOpt)\n",
       "        .catch(err => showError(`Javascript Error: ${err.message}<br>This usually means there's a typo in your chart specification. See the javascript console for the full traceback.`));\n",
       "    }\n",
       "\n",
       "    if(typeof define === \"function\" && define.amd) {\n",
       "      requirejs.config({paths});\n",
       "      require([\"vega-embed\"], displayChart, err => showError(`Error loading script: ${err.message}`));\n",
       "    } else if (typeof vegaEmbed === \"function\") {\n",
       "      displayChart(vegaEmbed);\n",
       "    } else {\n",
       "      loadScript(\"vega\")\n",
       "        .then(() => loadScript(\"vega-lite\"))\n",
       "        .then(() => loadScript(\"vega-embed\"))\n",
       "        .catch(showError)\n",
       "        .then(() => displayChart(vegaEmbed));\n",
       "    }\n",
       "  })({\"config\": {\"view\": {\"continuousWidth\": 400, \"continuousHeight\": 300}, \"axisX\": {\"titleX\": 350, \"titleY\": 30}, \"axisY\": {\"titleAngle\": 0, \"titleX\": -100}, \"title\": {\"fontSize\": 18}}, \"data\": {\"name\": \"data-e739ef83bedfe36fb09988c3c8742a50\"}, \"mark\": {\"type\": \"bar\", \"size\": 20}, \"encoding\": {\"x\": {\"type\": \"temporal\", \"axis\": {\"titleFontSize\": 14}, \"field\": \"Year\", \"scale\": {\"domain\": [\"2003-01-01\", \"2019-01-01\"]}}, \"y\": {\"type\": \"quantitative\", \"axis\": {\"title\": \"Average Price\", \"titleFontSize\": 14}, \"field\": \"Avg\"}}, \"title\": {\"text\": \"Average Price Per Year\", \"subtitle\": \"Beef Cattle Sales in Alabama\"}, \"width\": 700, \"$schema\": \"https://vega.github.io/schema/vega-lite/v4.8.1.json\", \"datasets\": {\"data-e739ef83bedfe36fb09988c3c8742a50\": [{\"Year\": \"2004-01-01T00:00:00\", \"Avg\": 128.2083571428572}, {\"Year\": \"2005-01-01T00:00:00\", \"Avg\": 107.49139364303173}, {\"Year\": \"2006-01-01T00:00:00\", \"Avg\": 104.24406542056074}, {\"Year\": \"2007-01-01T00:00:00\", \"Avg\": 97.0387631027253}, {\"Year\": \"2008-01-01T00:00:00\", \"Avg\": 88.2503890160183}, {\"Year\": \"2009-01-01T00:00:00\", \"Avg\": 82.23652777777788}, {\"Year\": \"2011-01-01T00:00:00\", \"Avg\": 113.79394329896905}, {\"Year\": \"2012-01-01T00:00:00\", \"Avg\": 137.0875903614458}, {\"Year\": \"2013-01-01T00:00:00\", \"Avg\": 135.43298913043486}, {\"Year\": \"2014-01-01T00:00:00\", \"Avg\": 202.40836257309942}, {\"Year\": \"2015-01-01T00:00:00\", \"Avg\": 211.95822085889563}, {\"Year\": \"2016-01-01T00:00:00\", \"Avg\": 127.32994186046515}, {\"Year\": \"2017-01-01T00:00:00\", \"Avg\": 126.7035294117646}, {\"Year\": \"2018-01-01T00:00:00\", \"Avg\": 129.40519999999998}]}}, {\"mode\": \"vega-lite\"});\n",
       "</script>"
      ],
      "text/plain": [
       "alt.Chart(...)"
      ]
     },
     "execution_count": 8,
     "metadata": {},
     "output_type": "execute_result"
    }
   ],
   "source": [
    "# look at average overall prices per year\n",
    "prices_per_yr_df = df.groupby(['Year'])['Avg'].mean()\n",
    "prices_per_yr_df = pd.DataFrame(prices_per_yr_df)\n",
    "prices_per_yr_df.reset_index(inplace = True)\n",
    "prices_per_yr_df['Year'] = pd.to_datetime(\n",
    "    prices_per_yr_df['Year'].astype(str), format='%Y'\n",
    "    )\n",
    "prices_per_yr_df.head()\n",
    "\n",
    "prices_per_year = alt.Chart(prices_per_yr_df).mark_bar(size = 20).encode(\n",
    "    x = alt.X(\n",
    "        'Year', \n",
    "        axis = alt.Axis(\n",
    "            titleFontSize = 14\n",
    "            ),\n",
    "        scale = alt.Scale(domain = x_year_domain)\n",
    "            ),\n",
    "    y = alt.Y(\n",
    "        'Avg', \n",
    "        axis = alt.Axis(\n",
    "            title = 'Average Price',\n",
    "            titleFontSize = 14\n",
    "            )\n",
    "        )\n",
    "    ).properties(\n",
    "            title = {\n",
    "                \"text\" : \"Average Price Per Year\",\n",
    "                \"subtitle\" : \"Beef Cattle Sales in Alabama\"\n",
    "                },\n",
    "            width = 700\n",
    "    ).configure_axisY(\n",
    "        titleAngle = 0,\n",
    "        titleX = -100,\n",
    "    ).configure_axisX(\n",
    "        titleX = 350,\n",
    "        titleY = 30\n",
    "    ).configure_title(\n",
    "        fontSize = 18   \n",
    "    )\n",
    "prices_per_year"
   ]
  },
  {
   "cell_type": "code",
   "execution_count": 9,
   "id": "offshore-namibia",
   "metadata": {},
   "outputs": [],
   "source": [
    "# look at average prices per month \n",
    "price_per_month_df = pd.melt(\n",
    "    df, \n",
    "    id_vars = ['Year'], \n",
    "    value_vars = ['Jan', 'Feb', 'Mar', 'Apr', 'May', 'Jun', 'Jul', 'Aug', 'Sep', 'Oct', 'Nov', 'Dec']\n",
    ")\n",
    "# start by dropping missing values \n",
    "price_per_month_df = price_per_month_df.dropna()\n",
    "\n",
    "price_per_month_df = price_per_month_df.groupby(['Year', 'variable'])['value'].mean()\n",
    "price_per_month_df = pd.DataFrame(price_per_month_df)\n",
    "price_per_month_df.reset_index(inplace = True)\n",
    "price_per_month_df['Year'] = pd.to_datetime(\n",
    "    price_per_month_df['Year'].astype(str), format='%Y'\n",
    ")"
   ]
  },
  {
   "cell_type": "code",
   "execution_count": 10,
   "id": "chubby-mumbai",
   "metadata": {},
   "outputs": [],
   "source": [
    "# add column for month and year \n",
    "months_dict = {'Jan' : 1, \n",
    "               'Feb' : 2,\n",
    "               'Mar' : 3, \n",
    "               'Apr' : 4, \n",
    "               'May' : 5, \n",
    "               'Jun' : 6, \n",
    "               'Jul' : 7, \n",
    "               'Aug' : 8, \n",
    "               'Sep' : 9, \n",
    "               'Oct' : 10, \n",
    "               'Nov' : 11, \n",
    "               'Dec' : 12\n",
    "              }\n",
    "price_per_month_df['month'] = price_per_month_df['variable'].map(months_dict)\n",
    "price_per_month_df['year'] = price_per_month_df['Year'].dt.year"
   ]
  },
  {
   "cell_type": "code",
   "execution_count": 11,
   "id": "prerequisite-isaac",
   "metadata": {
    "scrolled": true
   },
   "outputs": [
    {
     "data": {
      "text/html": [
       "<div>\n",
       "<style scoped>\n",
       "    .dataframe tbody tr th:only-of-type {\n",
       "        vertical-align: middle;\n",
       "    }\n",
       "\n",
       "    .dataframe tbody tr th {\n",
       "        vertical-align: top;\n",
       "    }\n",
       "\n",
       "    .dataframe thead th {\n",
       "        text-align: right;\n",
       "    }\n",
       "</style>\n",
       "<table border=\"1\" class=\"dataframe\">\n",
       "  <thead>\n",
       "    <tr style=\"text-align: right;\">\n",
       "      <th></th>\n",
       "      <th>Year</th>\n",
       "      <th>variable</th>\n",
       "      <th>value</th>\n",
       "      <th>month</th>\n",
       "      <th>year</th>\n",
       "    </tr>\n",
       "  </thead>\n",
       "  <tbody>\n",
       "    <tr>\n",
       "      <th>0</th>\n",
       "      <td>2004-01-01</td>\n",
       "      <td>Apr</td>\n",
       "      <td>98.259673</td>\n",
       "      <td>4</td>\n",
       "      <td>2004</td>\n",
       "    </tr>\n",
       "    <tr>\n",
       "      <th>1</th>\n",
       "      <td>2004-01-01</td>\n",
       "      <td>Aug</td>\n",
       "      <td>111.039098</td>\n",
       "      <td>8</td>\n",
       "      <td>2004</td>\n",
       "    </tr>\n",
       "    <tr>\n",
       "      <th>2</th>\n",
       "      <td>2004-01-01</td>\n",
       "      <td>Dec</td>\n",
       "      <td>105.845301</td>\n",
       "      <td>12</td>\n",
       "      <td>2004</td>\n",
       "    </tr>\n",
       "    <tr>\n",
       "      <th>3</th>\n",
       "      <td>2004-01-01</td>\n",
       "      <td>Feb</td>\n",
       "      <td>176.858529</td>\n",
       "      <td>2</td>\n",
       "      <td>2004</td>\n",
       "    </tr>\n",
       "    <tr>\n",
       "      <th>4</th>\n",
       "      <td>2004-01-01</td>\n",
       "      <td>Jan</td>\n",
       "      <td>125.400099</td>\n",
       "      <td>1</td>\n",
       "      <td>2004</td>\n",
       "    </tr>\n",
       "  </tbody>\n",
       "</table>\n",
       "</div>"
      ],
      "text/plain": [
       "        Year variable       value  month  year\n",
       "0 2004-01-01      Apr   98.259673      4  2004\n",
       "1 2004-01-01      Aug  111.039098      8  2004\n",
       "2 2004-01-01      Dec  105.845301     12  2004\n",
       "3 2004-01-01      Feb  176.858529      2  2004\n",
       "4 2004-01-01      Jan  125.400099      1  2004"
      ]
     },
     "execution_count": 11,
     "metadata": {},
     "output_type": "execute_result"
    }
   ],
   "source": [
    "price_per_month_df.head()"
   ]
  },
  {
   "cell_type": "code",
   "execution_count": 12,
   "id": "designing-campbell",
   "metadata": {},
   "outputs": [
    {
     "data": {
      "text/plain": [
       "Year        datetime64[ns]\n",
       "variable            object\n",
       "value              float64\n",
       "month                int64\n",
       "year                 int64\n",
       "dtype: object"
      ]
     },
     "execution_count": 12,
     "metadata": {},
     "output_type": "execute_result"
    }
   ],
   "source": [
    "price_per_month_df.dtypes"
   ]
  },
  {
   "cell_type": "code",
   "execution_count": 13,
   "id": "mental-cooperative",
   "metadata": {},
   "outputs": [
    {
     "data": {
      "text/html": [
       "<div>\n",
       "<style scoped>\n",
       "    .dataframe tbody tr th:only-of-type {\n",
       "        vertical-align: middle;\n",
       "    }\n",
       "\n",
       "    .dataframe tbody tr th {\n",
       "        vertical-align: top;\n",
       "    }\n",
       "\n",
       "    .dataframe thead th {\n",
       "        text-align: right;\n",
       "    }\n",
       "</style>\n",
       "<table border=\"1\" class=\"dataframe\">\n",
       "  <thead>\n",
       "    <tr style=\"text-align: right;\">\n",
       "      <th></th>\n",
       "      <th>Year</th>\n",
       "      <th>variable</th>\n",
       "      <th>value</th>\n",
       "      <th>month</th>\n",
       "      <th>year</th>\n",
       "      <th>day</th>\n",
       "    </tr>\n",
       "  </thead>\n",
       "  <tbody>\n",
       "    <tr>\n",
       "      <th>0</th>\n",
       "      <td>2004-01-01</td>\n",
       "      <td>Apr</td>\n",
       "      <td>98.259673</td>\n",
       "      <td>4</td>\n",
       "      <td>2004</td>\n",
       "      <td>1</td>\n",
       "    </tr>\n",
       "    <tr>\n",
       "      <th>1</th>\n",
       "      <td>2004-01-01</td>\n",
       "      <td>Aug</td>\n",
       "      <td>111.039098</td>\n",
       "      <td>8</td>\n",
       "      <td>2004</td>\n",
       "      <td>1</td>\n",
       "    </tr>\n",
       "    <tr>\n",
       "      <th>2</th>\n",
       "      <td>2004-01-01</td>\n",
       "      <td>Dec</td>\n",
       "      <td>105.845301</td>\n",
       "      <td>12</td>\n",
       "      <td>2004</td>\n",
       "      <td>1</td>\n",
       "    </tr>\n",
       "    <tr>\n",
       "      <th>3</th>\n",
       "      <td>2004-01-01</td>\n",
       "      <td>Feb</td>\n",
       "      <td>176.858529</td>\n",
       "      <td>2</td>\n",
       "      <td>2004</td>\n",
       "      <td>1</td>\n",
       "    </tr>\n",
       "    <tr>\n",
       "      <th>4</th>\n",
       "      <td>2004-01-01</td>\n",
       "      <td>Jan</td>\n",
       "      <td>125.400099</td>\n",
       "      <td>1</td>\n",
       "      <td>2004</td>\n",
       "      <td>1</td>\n",
       "    </tr>\n",
       "  </tbody>\n",
       "</table>\n",
       "</div>"
      ],
      "text/plain": [
       "        Year variable       value  month  year  day\n",
       "0 2004-01-01      Apr   98.259673      4  2004    1\n",
       "1 2004-01-01      Aug  111.039098      8  2004    1\n",
       "2 2004-01-01      Dec  105.845301     12  2004    1\n",
       "3 2004-01-01      Feb  176.858529      2  2004    1\n",
       "4 2004-01-01      Jan  125.400099      1  2004    1"
      ]
     },
     "execution_count": 13,
     "metadata": {},
     "output_type": "execute_result"
    }
   ],
   "source": [
    "price_per_month_df['day'] = 1\n",
    "price_per_month_df.head()"
   ]
  },
  {
   "cell_type": "code",
   "execution_count": 14,
   "id": "monetary-continuity",
   "metadata": {},
   "outputs": [],
   "source": [
    "price_per_month_df['date_col'] = pd.to_datetime(price_per_month_df[['month', 'year', 'day']])"
   ]
  },
  {
   "cell_type": "code",
   "execution_count": 15,
   "id": "refined-driving",
   "metadata": {},
   "outputs": [
    {
     "name": "stdout",
     "output_type": "stream",
     "text": [
      "         Year variable       value  month  year  day   date_col\n",
      "0  2004-01-01      Apr   98.259673      4  2004    1 2004-04-01\n",
      "1  2004-01-01      Aug  111.039098      8  2004    1 2004-08-01\n",
      "2  2004-01-01      Dec  105.845301     12  2004    1 2004-12-01\n",
      "3  2004-01-01      Feb  176.858529      2  2004    1 2004-02-01\n",
      "4  2004-01-01      Jan  125.400099      1  2004    1 2004-01-01\n",
      "5  2004-01-01      Jul  110.345911      7  2004    1 2004-07-01\n",
      "6  2004-01-01      Jun  106.885388      6  2004    1 2004-06-01\n",
      "7  2004-01-01      Mar   96.656243      3  2004    1 2004-03-01\n",
      "8  2004-01-01      May  103.132754      5  2004    1 2004-05-01\n",
      "9  2004-01-01      Nov  105.206058     11  2004    1 2004-11-01\n",
      "10 2004-01-01      Oct  105.829586     10  2004    1 2004-10-01\n",
      "11 2004-01-01      Sep  107.097124      9  2004    1 2004-09-01\n",
      "12 2005-01-01      Apr  116.129494      4  2005    1 2005-04-01\n",
      "13 2005-01-01      Aug  107.362072      8  2005    1 2005-08-01\n",
      "14 2005-01-01      Dec  111.994426     12  2005    1 2005-12-01\n",
      "15 2005-01-01      Feb  107.614906      2  2005    1 2005-02-01\n",
      "16 2005-01-01      Jan  105.774801      1  2005    1 2005-01-01\n",
      "17 2005-01-01      Jul  107.839522      7  2005    1 2005-07-01\n",
      "18 2005-01-01      Jun  113.692427      6  2005    1 2005-06-01\n",
      "19 2005-01-01      Mar  111.052319      3  2005    1 2005-03-01\n",
      "20 2005-01-01      May  116.518577      5  2005    1 2005-05-01\n",
      "21 2005-01-01      Nov  108.418450     11  2005    1 2005-11-01\n",
      "22 2005-01-01      Oct  107.817913     10  2005    1 2005-10-01\n",
      "23 2005-01-01      Sep  109.002437      9  2005    1 2005-09-01\n",
      "24 2006-01-01      Apr  105.542661      4  2006    1 2006-04-01\n",
      "\n",
      "Year        datetime64[ns]\n",
      "variable            object\n",
      "value              float64\n",
      "month                int64\n",
      "year                 int64\n",
      "day                  int64\n",
      "date_col    datetime64[ns]\n",
      "dtype: object\n"
     ]
    }
   ],
   "source": [
    "print(price_per_month_df.head(25))\n",
    "print('')\n",
    "print(price_per_month_df.dtypes)"
   ]
  },
  {
   "cell_type": "code",
   "execution_count": 16,
   "id": "iraqi-shoot",
   "metadata": {},
   "outputs": [
    {
     "data": {
      "text/html": [
       "\n",
       "<div id=\"altair-viz-99a87888f92a4d9f8403e3bf3c0c1e71\"></div>\n",
       "<script type=\"text/javascript\">\n",
       "  (function(spec, embedOpt){\n",
       "    let outputDiv = document.currentScript.previousElementSibling;\n",
       "    if (outputDiv.id !== \"altair-viz-99a87888f92a4d9f8403e3bf3c0c1e71\") {\n",
       "      outputDiv = document.getElementById(\"altair-viz-99a87888f92a4d9f8403e3bf3c0c1e71\");\n",
       "    }\n",
       "    const paths = {\n",
       "      \"vega\": \"https://cdn.jsdelivr.net/npm//vega@5?noext\",\n",
       "      \"vega-lib\": \"https://cdn.jsdelivr.net/npm//vega-lib?noext\",\n",
       "      \"vega-lite\": \"https://cdn.jsdelivr.net/npm//vega-lite@4.8.1?noext\",\n",
       "      \"vega-embed\": \"https://cdn.jsdelivr.net/npm//vega-embed@6?noext\",\n",
       "    };\n",
       "\n",
       "    function loadScript(lib) {\n",
       "      return new Promise(function(resolve, reject) {\n",
       "        var s = document.createElement('script');\n",
       "        s.src = paths[lib];\n",
       "        s.async = true;\n",
       "        s.onload = () => resolve(paths[lib]);\n",
       "        s.onerror = () => reject(`Error loading script: ${paths[lib]}`);\n",
       "        document.getElementsByTagName(\"head\")[0].appendChild(s);\n",
       "      });\n",
       "    }\n",
       "\n",
       "    function showError(err) {\n",
       "      outputDiv.innerHTML = `<div class=\"error\" style=\"color:red;\">${err}</div>`;\n",
       "      throw err;\n",
       "    }\n",
       "\n",
       "    function displayChart(vegaEmbed) {\n",
       "      vegaEmbed(outputDiv, spec, embedOpt)\n",
       "        .catch(err => showError(`Javascript Error: ${err.message}<br>This usually means there's a typo in your chart specification. See the javascript console for the full traceback.`));\n",
       "    }\n",
       "\n",
       "    if(typeof define === \"function\" && define.amd) {\n",
       "      requirejs.config({paths});\n",
       "      require([\"vega-embed\"], displayChart, err => showError(`Error loading script: ${err.message}`));\n",
       "    } else if (typeof vegaEmbed === \"function\") {\n",
       "      displayChart(vegaEmbed);\n",
       "    } else {\n",
       "      loadScript(\"vega\")\n",
       "        .then(() => loadScript(\"vega-lite\"))\n",
       "        .then(() => loadScript(\"vega-embed\"))\n",
       "        .catch(showError)\n",
       "        .then(() => displayChart(vegaEmbed));\n",
       "    }\n",
       "  })({\"config\": {\"view\": {\"continuousWidth\": 400, \"continuousHeight\": 300}, \"axisX\": {\"titleX\": 1000, \"titleY\": 30}, \"axisY\": {\"titleAngle\": 0, \"titleX\": -100}, \"title\": {\"fontSize\": 18}}, \"data\": {\"name\": \"data-3e05a7d37475c40020f1ec4e920e25e9\"}, \"mark\": \"point\", \"encoding\": {\"x\": {\"type\": \"temporal\", \"axis\": {\"title\": \"Date\", \"titleFontSize\": 14}, \"field\": \"date_col\"}, \"y\": {\"type\": \"quantitative\", \"axis\": {\"title\": \"Average Price\", \"titleFontSize\": 14}, \"field\": \"value\"}}, \"title\": {\"text\": \"Average Price Per Month\", \"subtitle\": \"Average Monthly Beef Cattle Price in Alabama, 2004-2018\"}, \"width\": 2000, \"$schema\": \"https://vega.github.io/schema/vega-lite/v4.8.1.json\", \"datasets\": {\"data-3e05a7d37475c40020f1ec4e920e25e9\": [{\"Year\": \"2004-01-01T00:00:00\", \"variable\": \"Apr\", \"value\": 98.25967289719628, \"month\": 4, \"year\": 2004, \"day\": 1, \"date_col\": \"2004-04-01T00:00:00\"}, {\"Year\": \"2004-01-01T00:00:00\", \"variable\": \"Aug\", \"value\": 111.03909803921565, \"month\": 8, \"year\": 2004, \"day\": 1, \"date_col\": \"2004-08-01T00:00:00\"}, {\"Year\": \"2004-01-01T00:00:00\", \"variable\": \"Dec\", \"value\": 105.84530120481924, \"month\": 12, \"year\": 2004, \"day\": 1, \"date_col\": \"2004-12-01T00:00:00\"}, {\"Year\": \"2004-01-01T00:00:00\", \"variable\": \"Feb\", \"value\": 176.8585294117647, \"month\": 2, \"year\": 2004, \"day\": 1, \"date_col\": \"2004-02-01T00:00:00\"}, {\"Year\": \"2004-01-01T00:00:00\", \"variable\": \"Jan\", \"value\": 125.40009900990101, \"month\": 1, \"year\": 2004, \"day\": 1, \"date_col\": \"2004-01-01T00:00:00\"}, {\"Year\": \"2004-01-01T00:00:00\", \"variable\": \"Jul\", \"value\": 110.3459113300493, \"month\": 7, \"year\": 2004, \"day\": 1, \"date_col\": \"2004-07-01T00:00:00\"}, {\"Year\": \"2004-01-01T00:00:00\", \"variable\": \"Jun\", \"value\": 106.88538775510209, \"month\": 6, \"year\": 2004, \"day\": 1, \"date_col\": \"2004-06-01T00:00:00\"}, {\"Year\": \"2004-01-01T00:00:00\", \"variable\": \"Mar\", \"value\": 96.65624277456646, \"month\": 3, \"year\": 2004, \"day\": 1, \"date_col\": \"2004-03-01T00:00:00\"}, {\"Year\": \"2004-01-01T00:00:00\", \"variable\": \"May\", \"value\": 103.13275362318835, \"month\": 5, \"year\": 2004, \"day\": 1, \"date_col\": \"2004-05-01T00:00:00\"}, {\"Year\": \"2004-01-01T00:00:00\", \"variable\": \"Nov\", \"value\": 105.20605809128631, \"month\": 11, \"year\": 2004, \"day\": 1, \"date_col\": \"2004-11-01T00:00:00\"}, {\"Year\": \"2004-01-01T00:00:00\", \"variable\": \"Oct\", \"value\": 105.82958646616552, \"month\": 10, \"year\": 2004, \"day\": 1, \"date_col\": \"2004-10-01T00:00:00\"}, {\"Year\": \"2004-01-01T00:00:00\", \"variable\": \"Sep\", \"value\": 107.09712446351922, \"month\": 9, \"year\": 2004, \"day\": 1, \"date_col\": \"2004-09-01T00:00:00\"}, {\"Year\": \"2005-01-01T00:00:00\", \"variable\": \"Apr\", \"value\": 116.12949416342414, \"month\": 4, \"year\": 2005, \"day\": 1, \"date_col\": \"2005-04-01T00:00:00\"}, {\"Year\": \"2005-01-01T00:00:00\", \"variable\": \"Aug\", \"value\": 107.3620720720721, \"month\": 8, \"year\": 2005, \"day\": 1, \"date_col\": \"2005-08-01T00:00:00\"}, {\"Year\": \"2005-01-01T00:00:00\", \"variable\": \"Dec\", \"value\": 111.99442553191493, \"month\": 12, \"year\": 2005, \"day\": 1, \"date_col\": \"2005-12-01T00:00:00\"}, {\"Year\": \"2005-01-01T00:00:00\", \"variable\": \"Feb\", \"value\": 107.61490636704117, \"month\": 2, \"year\": 2005, \"day\": 1, \"date_col\": \"2005-02-01T00:00:00\"}, {\"Year\": \"2005-01-01T00:00:00\", \"variable\": \"Jan\", \"value\": 105.77480144404329, \"month\": 1, \"year\": 2005, \"day\": 1, \"date_col\": \"2005-01-01T00:00:00\"}, {\"Year\": \"2005-01-01T00:00:00\", \"variable\": \"Jul\", \"value\": 107.83952153110044, \"month\": 7, \"year\": 2005, \"day\": 1, \"date_col\": \"2005-07-01T00:00:00\"}, {\"Year\": \"2005-01-01T00:00:00\", \"variable\": \"Jun\", \"value\": 113.692427184466, \"month\": 6, \"year\": 2005, \"day\": 1, \"date_col\": \"2005-06-01T00:00:00\"}, {\"Year\": \"2005-01-01T00:00:00\", \"variable\": \"Mar\", \"value\": 111.05231884057974, \"month\": 3, \"year\": 2005, \"day\": 1, \"date_col\": \"2005-03-01T00:00:00\"}, {\"Year\": \"2005-01-01T00:00:00\", \"variable\": \"May\", \"value\": 116.51857723577231, \"month\": 5, \"year\": 2005, \"day\": 1, \"date_col\": \"2005-05-01T00:00:00\"}, {\"Year\": \"2005-01-01T00:00:00\", \"variable\": \"Nov\", \"value\": 108.41844961240311, \"month\": 11, \"year\": 2005, \"day\": 1, \"date_col\": \"2005-11-01T00:00:00\"}, {\"Year\": \"2005-01-01T00:00:00\", \"variable\": \"Oct\", \"value\": 107.81791304347834, \"month\": 10, \"year\": 2005, \"day\": 1, \"date_col\": \"2005-10-01T00:00:00\"}, {\"Year\": \"2005-01-01T00:00:00\", \"variable\": \"Sep\", \"value\": 109.00243654822346, \"month\": 9, \"year\": 2005, \"day\": 1, \"date_col\": \"2005-09-01T00:00:00\"}, {\"Year\": \"2006-01-01T00:00:00\", \"variable\": \"Apr\", \"value\": 105.54266094420596, \"month\": 4, \"year\": 2006, \"day\": 1, \"date_col\": \"2006-04-01T00:00:00\"}, {\"Year\": \"2006-01-01T00:00:00\", \"variable\": \"Aug\", \"value\": 108.35429718875503, \"month\": 8, \"year\": 2006, \"day\": 1, \"date_col\": \"2006-08-01T00:00:00\"}, {\"Year\": \"2006-01-01T00:00:00\", \"variable\": \"Dec\", \"value\": 93.93611570247933, \"month\": 12, \"year\": 2006, \"day\": 1, \"date_col\": \"2006-12-01T00:00:00\"}, {\"Year\": \"2006-01-01T00:00:00\", \"variable\": \"Feb\", \"value\": 115.4780073800739, \"month\": 2, \"year\": 2006, \"day\": 1, \"date_col\": \"2006-02-01T00:00:00\"}, {\"Year\": \"2006-01-01T00:00:00\", \"variable\": \"Jan\", \"value\": 113.7498983050847, \"month\": 1, \"year\": 2006, \"day\": 1, \"date_col\": \"2006-01-01T00:00:00\"}, {\"Year\": \"2006-01-01T00:00:00\", \"variable\": \"Jul\", \"value\": 106.69164383561645, \"month\": 7, \"year\": 2006, \"day\": 1, \"date_col\": \"2006-07-01T00:00:00\"}, {\"Year\": \"2006-01-01T00:00:00\", \"variable\": \"Jun\", \"value\": 106.4666129032258, \"month\": 6, \"year\": 2006, \"day\": 1, \"date_col\": \"2006-06-01T00:00:00\"}, {\"Year\": \"2006-01-01T00:00:00\", \"variable\": \"Mar\", \"value\": 110.62492187500004, \"month\": 3, \"year\": 2006, \"day\": 1, \"date_col\": \"2006-03-01T00:00:00\"}, {\"Year\": \"2006-01-01T00:00:00\", \"variable\": \"May\", \"value\": 105.6308154506438, \"month\": 5, \"year\": 2006, \"day\": 1, \"date_col\": \"2006-05-01T00:00:00\"}, {\"Year\": \"2006-01-01T00:00:00\", \"variable\": \"Nov\", \"value\": 93.53512500000002, \"month\": 11, \"year\": 2006, \"day\": 1, \"date_col\": \"2006-11-01T00:00:00\"}, {\"Year\": \"2006-01-01T00:00:00\", \"variable\": \"Oct\", \"value\": 102.22789883268477, \"month\": 10, \"year\": 2006, \"day\": 1, \"date_col\": \"2006-10-01T00:00:00\"}, {\"Year\": \"2006-01-01T00:00:00\", \"variable\": \"Sep\", \"value\": 108.30524390243906, \"month\": 9, \"year\": 2006, \"day\": 1, \"date_col\": \"2006-09-01T00:00:00\"}, {\"Year\": \"2007-01-01T00:00:00\", \"variable\": \"Apr\", \"value\": 102.97125401929262, \"month\": 4, \"year\": 2007, \"day\": 1, \"date_col\": \"2007-04-01T00:00:00\"}, {\"Year\": \"2007-01-01T00:00:00\", \"variable\": \"Aug\", \"value\": 105.26903225806454, \"month\": 8, \"year\": 2007, \"day\": 1, \"date_col\": \"2007-08-01T00:00:00\"}, {\"Year\": \"2007-01-01T00:00:00\", \"variable\": \"Dec\", \"value\": 93.36198630136984, \"month\": 12, \"year\": 2007, \"day\": 1, \"date_col\": \"2007-12-01T00:00:00\"}, {\"Year\": \"2007-01-01T00:00:00\", \"variable\": \"Feb\", \"value\": 95.47873684210522, \"month\": 2, \"year\": 2007, \"day\": 1, \"date_col\": \"2007-02-01T00:00:00\"}, {\"Year\": \"2007-01-01T00:00:00\", \"variable\": \"Jan\", \"value\": 92.54099206349206, \"month\": 1, \"year\": 2007, \"day\": 1, \"date_col\": \"2007-01-01T00:00:00\"}, {\"Year\": \"2007-01-01T00:00:00\", \"variable\": \"Jul\", \"value\": 105.3419305019305, \"month\": 7, \"year\": 2007, \"day\": 1, \"date_col\": \"2007-07-01T00:00:00\"}, {\"Year\": \"2007-01-01T00:00:00\", \"variable\": \"Jun\", \"value\": 98.5618007662835, \"month\": 6, \"year\": 2007, \"day\": 1, \"date_col\": \"2007-06-01T00:00:00\"}, {\"Year\": \"2007-01-01T00:00:00\", \"variable\": \"Mar\", \"value\": 102.80909698996655, \"month\": 3, \"year\": 2007, \"day\": 1, \"date_col\": \"2007-03-01T00:00:00\"}, {\"Year\": \"2007-01-01T00:00:00\", \"variable\": \"May\", \"value\": 101.39695384615379, \"month\": 5, \"year\": 2007, \"day\": 1, \"date_col\": \"2007-05-01T00:00:00\"}, {\"Year\": \"2007-01-01T00:00:00\", \"variable\": \"Nov\", \"value\": 93.84082437275984, \"month\": 11, \"year\": 2007, \"day\": 1, \"date_col\": \"2007-11-01T00:00:00\"}, {\"Year\": \"2007-01-01T00:00:00\", \"variable\": \"Oct\", \"value\": 94.3841692789969, \"month\": 10, \"year\": 2007, \"day\": 1, \"date_col\": \"2007-10-01T00:00:00\"}, {\"Year\": \"2007-01-01T00:00:00\", \"variable\": \"Sep\", \"value\": 103.13833333333338, \"month\": 9, \"year\": 2007, \"day\": 1, \"date_col\": \"2007-09-01T00:00:00\"}, {\"Year\": \"2008-01-01T00:00:00\", \"variable\": \"Apr\", \"value\": 89.80050847457629, \"month\": 4, \"year\": 2008, \"day\": 1, \"date_col\": \"2008-04-01T00:00:00\"}, {\"Year\": \"2008-01-01T00:00:00\", \"variable\": \"Aug\", \"value\": 93.49951219512191, \"month\": 8, \"year\": 2008, \"day\": 1, \"date_col\": \"2008-08-01T00:00:00\"}, {\"Year\": \"2008-01-01T00:00:00\", \"variable\": \"Dec\", \"value\": 75.1072075471698, \"month\": 12, \"year\": 2008, \"day\": 1, \"date_col\": \"2008-12-01T00:00:00\"}, {\"Year\": \"2008-01-01T00:00:00\", \"variable\": \"Feb\", \"value\": 97.15622580645166, \"month\": 2, \"year\": 2008, \"day\": 1, \"date_col\": \"2008-02-01T00:00:00\"}, {\"Year\": \"2008-01-01T00:00:00\", \"variable\": \"Jan\", \"value\": 89.59288079470195, \"month\": 1, \"year\": 2008, \"day\": 1, \"date_col\": \"2008-01-01T00:00:00\"}, {\"Year\": \"2008-01-01T00:00:00\", \"variable\": \"Jul\", \"value\": 89.70141447368427, \"month\": 7, \"year\": 2008, \"day\": 1, \"date_col\": \"2008-07-01T00:00:00\"}, {\"Year\": \"2008-01-01T00:00:00\", \"variable\": \"Jun\", \"value\": 91.70267558528427, \"month\": 6, \"year\": 2008, \"day\": 1, \"date_col\": \"2008-06-01T00:00:00\"}, {\"Year\": \"2008-01-01T00:00:00\", \"variable\": \"Mar\", \"value\": 93.80553797468357, \"month\": 3, \"year\": 2008, \"day\": 1, \"date_col\": \"2008-03-01T00:00:00\"}, {\"Year\": \"2008-01-01T00:00:00\", \"variable\": \"May\", \"value\": 93.67879194630868, \"month\": 5, \"year\": 2008, \"day\": 1, \"date_col\": \"2008-05-01T00:00:00\"}, {\"Year\": \"2008-01-01T00:00:00\", \"variable\": \"Nov\", \"value\": 80.7389735099338, \"month\": 11, \"year\": 2008, \"day\": 1, \"date_col\": \"2008-11-01T00:00:00\"}, {\"Year\": \"2008-01-01T00:00:00\", \"variable\": \"Oct\", \"value\": 82.05687296416934, \"month\": 10, \"year\": 2008, \"day\": 1, \"date_col\": \"2008-10-01T00:00:00\"}, {\"Year\": \"2008-01-01T00:00:00\", \"variable\": \"Sep\", \"value\": 91.07111498257837, \"month\": 9, \"year\": 2008, \"day\": 1, \"date_col\": \"2008-09-01T00:00:00\"}, {\"Year\": \"2009-01-01T00:00:00\", \"variable\": \"Apr\", \"value\": 86.93730639730636, \"month\": 4, \"year\": 2009, \"day\": 1, \"date_col\": \"2009-04-01T00:00:00\"}, {\"Year\": \"2009-01-01T00:00:00\", \"variable\": \"Aug\", \"value\": 87.28846975088973, \"month\": 8, \"year\": 2009, \"day\": 1, \"date_col\": \"2009-08-01T00:00:00\"}, {\"Year\": \"2009-01-01T00:00:00\", \"variable\": \"Dec\", \"value\": 81.20397683397687, \"month\": 12, \"year\": 2009, \"day\": 1, \"date_col\": \"2009-12-01T00:00:00\"}, {\"Year\": \"2009-01-01T00:00:00\", \"variable\": \"Feb\", \"value\": 81.75808176100634, \"month\": 2, \"year\": 2009, \"day\": 1, \"date_col\": \"2009-02-01T00:00:00\"}, {\"Year\": \"2009-01-01T00:00:00\", \"variable\": \"Jan\", \"value\": 81.9634812286689, \"month\": 1, \"year\": 2009, \"day\": 1, \"date_col\": \"2009-01-01T00:00:00\"}, {\"Year\": \"2009-01-01T00:00:00\", \"variable\": \"Jul\", \"value\": 86.45891696750898, \"month\": 7, \"year\": 2009, \"day\": 1, \"date_col\": \"2009-07-01T00:00:00\"}, {\"Year\": \"2009-01-01T00:00:00\", \"variable\": \"Jun\", \"value\": 87.56000000000002, \"month\": 6, \"year\": 2009, \"day\": 1, \"date_col\": \"2009-06-01T00:00:00\"}, {\"Year\": \"2009-01-01T00:00:00\", \"variable\": \"Mar\", \"value\": 83.82467128027685, \"month\": 3, \"year\": 2009, \"day\": 1, \"date_col\": \"2009-03-01T00:00:00\"}, {\"Year\": \"2009-01-01T00:00:00\", \"variable\": \"May\", \"value\": 89.99515789473686, \"month\": 5, \"year\": 2009, \"day\": 1, \"date_col\": \"2009-05-01T00:00:00\"}, {\"Year\": \"2009-01-01T00:00:00\", \"variable\": \"Nov\", \"value\": 80.61508650519025, \"month\": 11, \"year\": 2009, \"day\": 1, \"date_col\": \"2009-11-01T00:00:00\"}, {\"Year\": \"2009-01-01T00:00:00\", \"variable\": \"Oct\", \"value\": 78.29150501672238, \"month\": 10, \"year\": 2009, \"day\": 1, \"date_col\": \"2009-10-01T00:00:00\"}, {\"Year\": \"2009-01-01T00:00:00\", \"variable\": \"Sep\", \"value\": 83.62722044728433, \"month\": 9, \"year\": 2009, \"day\": 1, \"date_col\": \"2009-09-01T00:00:00\"}, {\"Year\": \"2011-01-01T00:00:00\", \"variable\": \"Apr\", \"value\": 124.55408921933089, \"month\": 4, \"year\": 2011, \"day\": 1, \"date_col\": \"2011-04-01T00:00:00\"}, {\"Year\": \"2011-01-01T00:00:00\", \"variable\": \"Aug\", \"value\": 114.74092436974792, \"month\": 8, \"year\": 2011, \"day\": 1, \"date_col\": \"2011-08-01T00:00:00\"}, {\"Year\": \"2011-01-01T00:00:00\", \"variable\": \"Dec\", \"value\": 127.42837837837835, \"month\": 12, \"year\": 2011, \"day\": 1, \"date_col\": \"2011-12-01T00:00:00\"}, {\"Year\": \"2011-01-01T00:00:00\", \"variable\": \"Feb\", \"value\": 116.05692028985504, \"month\": 2, \"year\": 2011, \"day\": 1, \"date_col\": \"2011-02-01T00:00:00\"}, {\"Year\": \"2011-01-01T00:00:00\", \"variable\": \"Jan\", \"value\": 110.5396212121213, \"month\": 1, \"year\": 2011, \"day\": 1, \"date_col\": \"2011-01-01T00:00:00\"}, {\"Year\": \"2011-01-01T00:00:00\", \"variable\": \"Jul\", \"value\": 119.70656862745102, \"month\": 7, \"year\": 2011, \"day\": 1, \"date_col\": \"2011-07-01T00:00:00\"}, {\"Year\": \"2011-01-01T00:00:00\", \"variable\": \"Jun\", \"value\": 113.77547169811317, \"month\": 6, \"year\": 2011, \"day\": 1, \"date_col\": \"2011-06-01T00:00:00\"}, {\"Year\": \"2011-01-01T00:00:00\", \"variable\": \"Mar\", \"value\": 125.29172043010747, \"month\": 3, \"year\": 2011, \"day\": 1, \"date_col\": \"2011-03-01T00:00:00\"}, {\"Year\": \"2011-01-01T00:00:00\", \"variable\": \"May\", \"value\": 116.33929245283015, \"month\": 5, \"year\": 2011, \"day\": 1, \"date_col\": \"2011-05-01T00:00:00\"}, {\"Year\": \"2011-01-01T00:00:00\", \"variable\": \"Nov\", \"value\": 119.56570731707319, \"month\": 11, \"year\": 2011, \"day\": 1, \"date_col\": \"2011-11-01T00:00:00\"}, {\"Year\": \"2011-01-01T00:00:00\", \"variable\": \"Oct\", \"value\": 112.24514018691589, \"month\": 10, \"year\": 2011, \"day\": 1, \"date_col\": \"2011-10-01T00:00:00\"}, {\"Year\": \"2011-01-01T00:00:00\", \"variable\": \"Sep\", \"value\": 109.05633027522934, \"month\": 9, \"year\": 2011, \"day\": 1, \"date_col\": \"2011-09-01T00:00:00\"}, {\"Year\": \"2012-01-01T00:00:00\", \"variable\": \"Apr\", \"value\": 152.39499999999998, \"month\": 4, \"year\": 2012, \"day\": 1, \"date_col\": \"2012-04-01T00:00:00\"}, {\"Year\": \"2012-01-01T00:00:00\", \"variable\": \"Aug\", \"value\": 129.22447761194027, \"month\": 8, \"year\": 2012, \"day\": 1, \"date_col\": \"2012-08-01T00:00:00\"}, {\"Year\": \"2012-01-01T00:00:00\", \"variable\": \"Dec\", \"value\": 137.83920000000003, \"month\": 12, \"year\": 2012, \"day\": 1, \"date_col\": \"2012-12-01T00:00:00\"}, {\"Year\": \"2012-01-01T00:00:00\", \"variable\": \"Feb\", \"value\": 150.78107913669066, \"month\": 2, \"year\": 2012, \"day\": 1, \"date_col\": \"2012-02-01T00:00:00\"}, {\"Year\": \"2012-01-01T00:00:00\", \"variable\": \"Jan\", \"value\": 137.36594117647056, \"month\": 1, \"year\": 2012, \"day\": 1, \"date_col\": \"2012-01-01T00:00:00\"}, {\"Year\": \"2012-01-01T00:00:00\", \"variable\": \"Jul\", \"value\": 127.5404761904762, \"month\": 7, \"year\": 2012, \"day\": 1, \"date_col\": \"2012-07-01T00:00:00\"}, {\"Year\": \"2012-01-01T00:00:00\", \"variable\": \"Jun\", \"value\": 144.1164835164835, \"month\": 6, \"year\": 2012, \"day\": 1, \"date_col\": \"2012-06-01T00:00:00\"}, {\"Year\": \"2012-01-01T00:00:00\", \"variable\": \"Mar\", \"value\": 155.7026724137931, \"month\": 3, \"year\": 2012, \"day\": 1, \"date_col\": \"2012-03-01T00:00:00\"}, {\"Year\": \"2012-01-01T00:00:00\", \"variable\": \"May\", \"value\": 152.47210937499995, \"month\": 5, \"year\": 2012, \"day\": 1, \"date_col\": \"2012-05-01T00:00:00\"}, {\"Year\": \"2012-01-01T00:00:00\", \"variable\": \"Nov\", \"value\": 135.11038461538465, \"month\": 11, \"year\": 2012, \"day\": 1, \"date_col\": \"2012-11-01T00:00:00\"}, {\"Year\": \"2012-01-01T00:00:00\", \"variable\": \"Oct\", \"value\": 134.1732592592593, \"month\": 10, \"year\": 2012, \"day\": 1, \"date_col\": \"2012-10-01T00:00:00\"}, {\"Year\": \"2012-01-01T00:00:00\", \"variable\": \"Sep\", \"value\": 138.05165413533842, \"month\": 9, \"year\": 2012, \"day\": 1, \"date_col\": \"2012-09-01T00:00:00\"}, {\"Year\": \"2013-01-01T00:00:00\", \"variable\": \"Apr\", \"value\": 131.52568345323743, \"month\": 4, \"year\": 2013, \"day\": 1, \"date_col\": \"2013-04-01T00:00:00\"}, {\"Year\": \"2013-01-01T00:00:00\", \"variable\": \"Aug\", \"value\": 141.10461538461539, \"month\": 8, \"year\": 2013, \"day\": 1, \"date_col\": \"2013-08-01T00:00:00\"}, {\"Year\": \"2013-01-01T00:00:00\", \"variable\": \"Dec\", \"value\": 152.78152, \"month\": 12, \"year\": 2013, \"day\": 1, \"date_col\": \"2013-12-01T00:00:00\"}, {\"Year\": \"2013-01-01T00:00:00\", \"variable\": \"Feb\", \"value\": 144.25894736842116, \"month\": 2, \"year\": 2013, \"day\": 1, \"date_col\": \"2013-02-01T00:00:00\"}, {\"Year\": \"2013-01-01T00:00:00\", \"variable\": \"Jan\", \"value\": 144.63954545454538, \"month\": 1, \"year\": 2013, \"day\": 1, \"date_col\": \"2013-01-01T00:00:00\"}, {\"Year\": \"2013-01-01T00:00:00\", \"variable\": \"Jul\", \"value\": 135.00582089552236, \"month\": 7, \"year\": 2013, \"day\": 1, \"date_col\": \"2013-07-01T00:00:00\"}, {\"Year\": \"2013-01-01T00:00:00\", \"variable\": \"Jun\", \"value\": 125.5177037037037, \"month\": 6, \"year\": 2013, \"day\": 1, \"date_col\": \"2013-06-01T00:00:00\"}, {\"Year\": \"2013-01-01T00:00:00\", \"variable\": \"Mar\", \"value\": 137.29239130434777, \"month\": 3, \"year\": 2013, \"day\": 1, \"date_col\": \"2013-03-01T00:00:00\"}, {\"Year\": \"2013-01-01T00:00:00\", \"variable\": \"May\", \"value\": 128.11362416107377, \"month\": 5, \"year\": 2013, \"day\": 1, \"date_col\": \"2013-05-01T00:00:00\"}, {\"Year\": \"2013-01-01T00:00:00\", \"variable\": \"Nov\", \"value\": 150.7327941176471, \"month\": 11, \"year\": 2013, \"day\": 1, \"date_col\": \"2013-11-01T00:00:00\"}, {\"Year\": \"2013-01-01T00:00:00\", \"variable\": \"Oct\", \"value\": 147.44030303030306, \"month\": 10, \"year\": 2013, \"day\": 1, \"date_col\": \"2013-10-01T00:00:00\"}, {\"Year\": \"2013-01-01T00:00:00\", \"variable\": \"Sep\", \"value\": 139.36601503759394, \"month\": 9, \"year\": 2013, \"day\": 1, \"date_col\": \"2013-09-01T00:00:00\"}, {\"Year\": \"2014-01-01T00:00:00\", \"variable\": \"Apr\", \"value\": 183.35740157480322, \"month\": 4, \"year\": 2014, \"day\": 1, \"date_col\": \"2014-04-01T00:00:00\"}, {\"Year\": \"2014-01-01T00:00:00\", \"variable\": \"Aug\", \"value\": 226.2254838709677, \"month\": 8, \"year\": 2014, \"day\": 1, \"date_col\": \"2014-08-01T00:00:00\"}, {\"Year\": \"2014-01-01T00:00:00\", \"variable\": \"Dec\", \"value\": 247.43409836065572, \"month\": 12, \"year\": 2014, \"day\": 1, \"date_col\": \"2014-12-01T00:00:00\"}, {\"Year\": \"2014-01-01T00:00:00\", \"variable\": \"Feb\", \"value\": 170.4751538461538, \"month\": 2, \"year\": 2014, \"day\": 1, \"date_col\": \"2014-02-01T00:00:00\"}, {\"Year\": \"2014-01-01T00:00:00\", \"variable\": \"Jan\", \"value\": 165.09446153846153, \"month\": 1, \"year\": 2014, \"day\": 1, \"date_col\": \"2014-01-01T00:00:00\"}, {\"Year\": \"2014-01-01T00:00:00\", \"variable\": \"Jul\", \"value\": 221.9897619047619, \"month\": 7, \"year\": 2014, \"day\": 1, \"date_col\": \"2014-07-01T00:00:00\"}, {\"Year\": \"2014-01-01T00:00:00\", \"variable\": \"Jun\", \"value\": 206.98924242424252, \"month\": 6, \"year\": 2014, \"day\": 1, \"date_col\": \"2014-06-01T00:00:00\"}, {\"Year\": \"2014-01-01T00:00:00\", \"variable\": \"Mar\", \"value\": 181.36639705882354, \"month\": 3, \"year\": 2014, \"day\": 1, \"date_col\": \"2014-03-01T00:00:00\"}, {\"Year\": \"2014-01-01T00:00:00\", \"variable\": \"May\", \"value\": 193.02468253968266, \"month\": 5, \"year\": 2014, \"day\": 1, \"date_col\": \"2014-05-01T00:00:00\"}, {\"Year\": \"2014-01-01T00:00:00\", \"variable\": \"Nov\", \"value\": 242.57722222222213, \"month\": 11, \"year\": 2014, \"day\": 1, \"date_col\": \"2014-11-01T00:00:00\"}, {\"Year\": \"2014-01-01T00:00:00\", \"variable\": \"Oct\", \"value\": 234.78159090909088, \"month\": 10, \"year\": 2014, \"day\": 1, \"date_col\": \"2014-10-01T00:00:00\"}, {\"Year\": \"2014-01-01T00:00:00\", \"variable\": \"Sep\", \"value\": 230.45674418604648, \"month\": 9, \"year\": 2014, \"day\": 1, \"date_col\": \"2014-09-01T00:00:00\"}, {\"Year\": \"2015-01-01T00:00:00\", \"variable\": \"Apr\", \"value\": 245.42603053435107, \"month\": 4, \"year\": 2015, \"day\": 1, \"date_col\": \"2015-04-01T00:00:00\"}, {\"Year\": \"2015-01-01T00:00:00\", \"variable\": \"Aug\", \"value\": 221.98071428571419, \"month\": 8, \"year\": 2015, \"day\": 1, \"date_col\": \"2015-08-01T00:00:00\"}, {\"Year\": \"2015-01-01T00:00:00\", \"variable\": \"Dec\", \"value\": 152.7406837606838, \"month\": 12, \"year\": 2015, \"day\": 1, \"date_col\": \"2015-12-01T00:00:00\"}, {\"Year\": \"2015-01-01T00:00:00\", \"variable\": \"Feb\", \"value\": 241.5713008130081, \"month\": 2, \"year\": 2015, \"day\": 1, \"date_col\": \"2015-02-01T00:00:00\"}, {\"Year\": \"2015-01-01T00:00:00\", \"variable\": \"Jan\", \"value\": 240.329296875, \"month\": 1, \"year\": 2015, \"day\": 1, \"date_col\": \"2015-01-01T00:00:00\"}, {\"Year\": \"2015-01-01T00:00:00\", \"variable\": \"Jul\", \"value\": 226.8039062500001, \"month\": 7, \"year\": 2015, \"day\": 1, \"date_col\": \"2015-07-01T00:00:00\"}, {\"Year\": \"2015-01-01T00:00:00\", \"variable\": \"Jun\", \"value\": 239.9482352941176, \"month\": 6, \"year\": 2015, \"day\": 1, \"date_col\": \"2015-06-01T00:00:00\"}, {\"Year\": \"2015-01-01T00:00:00\", \"variable\": \"Mar\", \"value\": 246.97152173913048, \"month\": 3, \"year\": 2015, \"day\": 1, \"date_col\": \"2015-03-01T00:00:00\"}, {\"Year\": \"2015-01-01T00:00:00\", \"variable\": \"May\", \"value\": 242.2851937984497, \"month\": 5, \"year\": 2015, \"day\": 1, \"date_col\": \"2015-05-01T00:00:00\"}, {\"Year\": \"2015-01-01T00:00:00\", \"variable\": \"Nov\", \"value\": 164.16456692913385, \"month\": 11, \"year\": 2015, \"day\": 1, \"date_col\": \"2015-11-01T00:00:00\"}, {\"Year\": \"2015-01-01T00:00:00\", \"variable\": \"Oct\", \"value\": 172.15825396825392, \"month\": 10, \"year\": 2015, \"day\": 1, \"date_col\": \"2015-10-01T00:00:00\"}, {\"Year\": \"2015-01-01T00:00:00\", \"variable\": \"Sep\", \"value\": 191.38447761194038, \"month\": 9, \"year\": 2015, \"day\": 1, \"date_col\": \"2015-09-01T00:00:00\"}, {\"Year\": \"2016-01-01T00:00:00\", \"variable\": \"Apr\", \"value\": 146.66259541984732, \"month\": 4, \"year\": 2016, \"day\": 1, \"date_col\": \"2016-04-01T00:00:00\"}, {\"Year\": \"2016-01-01T00:00:00\", \"variable\": \"Aug\", \"value\": 127.54320312500003, \"month\": 8, \"year\": 2016, \"day\": 1, \"date_col\": \"2016-08-01T00:00:00\"}, {\"Year\": \"2016-01-01T00:00:00\", \"variable\": \"Dec\", \"value\": 115.81439655172417, \"month\": 12, \"year\": 2016, \"day\": 1, \"date_col\": \"2016-12-01T00:00:00\"}, {\"Year\": \"2016-01-01T00:00:00\", \"variable\": \"Feb\", \"value\": 158.46674603174608, \"month\": 2, \"year\": 2016, \"day\": 1, \"date_col\": \"2016-02-01T00:00:00\"}, {\"Year\": \"2016-01-01T00:00:00\", \"variable\": \"Jan\", \"value\": 159.3945600000001, \"month\": 1, \"year\": 2016, \"day\": 1, \"date_col\": \"2016-01-01T00:00:00\"}, {\"Year\": \"2016-01-01T00:00:00\", \"variable\": \"Jul\", \"value\": 120.58142857142855, \"month\": 7, \"year\": 2016, \"day\": 1, \"date_col\": \"2016-07-01T00:00:00\"}, {\"Year\": \"2016-01-01T00:00:00\", \"variable\": \"Jun\", \"value\": 125.94626984126977, \"month\": 6, \"year\": 2016, \"day\": 1, \"date_col\": \"2016-06-01T00:00:00\"}, {\"Year\": \"2016-01-01T00:00:00\", \"variable\": \"Mar\", \"value\": 162.55872000000002, \"month\": 3, \"year\": 2016, \"day\": 1, \"date_col\": \"2016-03-01T00:00:00\"}, {\"Year\": \"2016-01-01T00:00:00\", \"variable\": \"May\", \"value\": 134.5441538461538, \"month\": 5, \"year\": 2016, \"day\": 1, \"date_col\": \"2016-05-01T00:00:00\"}, {\"Year\": \"2016-01-01T00:00:00\", \"variable\": \"Nov\", \"value\": 107.99939393939384, \"month\": 11, \"year\": 2016, \"day\": 1, \"date_col\": \"2016-11-01T00:00:00\"}, {\"Year\": \"2016-01-01T00:00:00\", \"variable\": \"Oct\", \"value\": 98.69432835820894, \"month\": 10, \"year\": 2016, \"day\": 1, \"date_col\": \"2016-10-01T00:00:00\"}, {\"Year\": \"2016-01-01T00:00:00\", \"variable\": \"Sep\", \"value\": 112.843779527559, \"month\": 9, \"year\": 2016, \"day\": 1, \"date_col\": \"2016-09-01T00:00:00\"}, {\"Year\": \"2017-01-01T00:00:00\", \"variable\": \"Apr\", \"value\": 131.16345864661656, \"month\": 4, \"year\": 2017, \"day\": 1, \"date_col\": \"2017-04-01T00:00:00\"}, {\"Year\": \"2017-01-01T00:00:00\", \"variable\": \"Aug\", \"value\": 129.72159090909088, \"month\": 8, \"year\": 2017, \"day\": 1, \"date_col\": \"2017-08-01T00:00:00\"}, {\"Year\": \"2017-01-01T00:00:00\", \"variable\": \"Dec\", \"value\": 131.59539682539682, \"month\": 12, \"year\": 2017, \"day\": 1, \"date_col\": \"2017-12-01T00:00:00\"}, {\"Year\": \"2017-01-01T00:00:00\", \"variable\": \"Feb\", \"value\": 121.4326356589147, \"month\": 2, \"year\": 2017, \"day\": 1, \"date_col\": \"2017-02-01T00:00:00\"}, {\"Year\": \"2017-01-01T00:00:00\", \"variable\": \"Jan\", \"value\": 119.77834586466172, \"month\": 1, \"year\": 2017, \"day\": 1, \"date_col\": \"2017-01-01T00:00:00\"}, {\"Year\": \"2017-01-01T00:00:00\", \"variable\": \"Jul\", \"value\": 133.75087301587303, \"month\": 7, \"year\": 2017, \"day\": 1, \"date_col\": \"2017-07-01T00:00:00\"}, {\"Year\": \"2017-01-01T00:00:00\", \"variable\": \"Jun\", \"value\": 136.1089705882353, \"month\": 6, \"year\": 2017, \"day\": 1, \"date_col\": \"2017-06-01T00:00:00\"}, {\"Year\": \"2017-01-01T00:00:00\", \"variable\": \"Mar\", \"value\": 128.385895522388, \"month\": 3, \"year\": 2017, \"day\": 1, \"date_col\": \"2017-03-01T00:00:00\"}, {\"Year\": \"2017-01-01T00:00:00\", \"variable\": \"May\", \"value\": 135.3287407407407, \"month\": 5, \"year\": 2017, \"day\": 1, \"date_col\": \"2017-05-01T00:00:00\"}, {\"Year\": \"2017-01-01T00:00:00\", \"variable\": \"Nov\", \"value\": 133.0999999999999, \"month\": 11, \"year\": 2017, \"day\": 1, \"date_col\": \"2017-11-01T00:00:00\"}, {\"Year\": \"2017-01-01T00:00:00\", \"variable\": \"Oct\", \"value\": 128.98361538461535, \"month\": 10, \"year\": 2017, \"day\": 1, \"date_col\": \"2017-10-01T00:00:00\"}, {\"Year\": \"2017-01-01T00:00:00\", \"variable\": \"Sep\", \"value\": 129.89082089552235, \"month\": 9, \"year\": 2017, \"day\": 1, \"date_col\": \"2017-09-01T00:00:00\"}, {\"Year\": \"2018-01-01T00:00:00\", \"variable\": \"Apr\", \"value\": 136.69950704225354, \"month\": 4, \"year\": 2018, \"day\": 1, \"date_col\": \"2018-04-01T00:00:00\"}, {\"Year\": \"2018-01-01T00:00:00\", \"variable\": \"Aug\", \"value\": 128.76541353383456, \"month\": 8, \"year\": 2018, \"day\": 1, \"date_col\": \"2018-08-01T00:00:00\"}, {\"Year\": \"2018-01-01T00:00:00\", \"variable\": \"Dec\", \"value\": 124.44843283582084, \"month\": 12, \"year\": 2018, \"day\": 1, \"date_col\": \"2018-12-01T00:00:00\"}, {\"Year\": \"2018-01-01T00:00:00\", \"variable\": \"Feb\", \"value\": 141.3530935251799, \"month\": 2, \"year\": 2018, \"day\": 1, \"date_col\": \"2018-02-01T00:00:00\"}, {\"Year\": \"2018-01-01T00:00:00\", \"variable\": \"Jan\", \"value\": 134.0097637795275, \"month\": 1, \"year\": 2018, \"day\": 1, \"date_col\": \"2018-01-01T00:00:00\"}, {\"Year\": \"2018-01-01T00:00:00\", \"variable\": \"Jul\", \"value\": 131.08281249999996, \"month\": 7, \"year\": 2018, \"day\": 1, \"date_col\": \"2018-07-01T00:00:00\"}, {\"Year\": \"2018-01-01T00:00:00\", \"variable\": \"Jun\", \"value\": 132.05431506849314, \"month\": 6, \"year\": 2018, \"day\": 1, \"date_col\": \"2018-06-01T00:00:00\"}, {\"Year\": \"2018-01-01T00:00:00\", \"variable\": \"Mar\", \"value\": 140.70045454545448, \"month\": 3, \"year\": 2018, \"day\": 1, \"date_col\": \"2018-03-01T00:00:00\"}, {\"Year\": \"2018-01-01T00:00:00\", \"variable\": \"May\", \"value\": 131.0184892086331, \"month\": 5, \"year\": 2018, \"day\": 1, \"date_col\": \"2018-05-01T00:00:00\"}, {\"Year\": \"2018-01-01T00:00:00\", \"variable\": \"Nov\", \"value\": 124.59426356589145, \"month\": 11, \"year\": 2018, \"day\": 1, \"date_col\": \"2018-11-01T00:00:00\"}, {\"Year\": \"2018-01-01T00:00:00\", \"variable\": \"Oct\", \"value\": 127.94311111111114, \"month\": 10, \"year\": 2018, \"day\": 1, \"date_col\": \"2018-10-01T00:00:00\"}, {\"Year\": \"2018-01-01T00:00:00\", \"variable\": \"Sep\", \"value\": 128.65656716417917, \"month\": 9, \"year\": 2018, \"day\": 1, \"date_col\": \"2018-09-01T00:00:00\"}]}}, {\"mode\": \"vega-lite\"});\n",
       "</script>"
      ],
      "text/plain": [
       "alt.Chart(...)"
      ]
     },
     "execution_count": 16,
     "metadata": {},
     "output_type": "execute_result"
    }
   ],
   "source": [
    "# prices per month over time visual\n",
    "prices_per_month = alt.Chart(price_per_month_df).mark_point().encode(\n",
    "    x = alt.X(\n",
    "        'date_col', \n",
    "        axis = alt.Axis(\n",
    "            title = 'Date',\n",
    "            titleFontSize = 14\n",
    "            ),\n",
    "            ),\n",
    "    y = alt.Y(\n",
    "        'value', \n",
    "        axis = alt.Axis(\n",
    "            title = 'Average Price',\n",
    "            titleFontSize = 14\n",
    "            )\n",
    "        )\n",
    "    ).properties(\n",
    "            title = {\n",
    "                \"text\" : \"Average Price Per Month\",\n",
    "                \"subtitle\" : \"Average Monthly Beef Cattle Price in Alabama, 2004-2018\"\n",
    "                },\n",
    "            width = 2000\n",
    "    ).configure_axisY(\n",
    "        titleAngle = 0,\n",
    "        titleX = -100,\n",
    "    ).configure_axisX(\n",
    "        titleX = 1000,\n",
    "        titleY = 30\n",
    "    ).configure_title(\n",
    "        fontSize = 18   \n",
    "    )\n",
    "prices_per_month"
   ]
  },
  {
   "cell_type": "code",
   "execution_count": 17,
   "id": "increased-board",
   "metadata": {},
   "outputs": [
    {
     "name": "stdout",
     "output_type": "stream",
     "text": [
      "{2004: 176.8585294117647, 2005: 116.51857723577231, 2006: 115.4780073800739, 2007: 105.3419305019305, 2008: 97.15622580645166, 2009: 89.99515789473686, 2011: 127.42837837837835, 2012: 155.7026724137931, 2013: 152.78152, 2014: 247.43409836065572, 2015: 246.97152173913048, 2016: 162.55872000000002, 2017: 136.1089705882353, 2018: 141.3530935251799}\n"
     ]
    }
   ],
   "source": [
    "# look at what month is highest each year \n",
    "max_vals_dict = price_per_month_df.groupby(['year'])['value'].max().to_dict()\n",
    "print(max_vals_dict)"
   ]
  },
  {
   "cell_type": "code",
   "execution_count": 18,
   "id": "documentary-shark",
   "metadata": {
    "scrolled": true
   },
   "outputs": [
    {
     "name": "stdout",
     "output_type": "stream",
     "text": [
      "        Year variable       value  month  year  day   date_col   max_price\n",
      "0 2004-01-01      Apr   98.259673      4  2004    1 2004-04-01  176.858529\n",
      "1 2004-01-01      Aug  111.039098      8  2004    1 2004-08-01  176.858529\n",
      "2 2004-01-01      Dec  105.845301     12  2004    1 2004-12-01  176.858529\n",
      "3 2004-01-01      Feb  176.858529      2  2004    1 2004-02-01  176.858529\n",
      "4 2004-01-01      Jan  125.400099      1  2004    1 2004-01-01  176.858529\n"
     ]
    }
   ],
   "source": [
    "price_per_month_df['max_price'] = price_per_month_df['year'].map(max_vals_dict)\n",
    "print(price_per_month_df.head())"
   ]
  },
  {
   "cell_type": "code",
   "execution_count": 19,
   "id": "favorite-photographer",
   "metadata": {},
   "outputs": [
    {
     "name": "stdout",
     "output_type": "stream",
     "text": [
      "        Year variable       value  month  year  day   date_col   max_price  \\\n",
      "0 2004-01-01      Apr   98.259673      4  2004    1 2004-04-01  176.858529   \n",
      "1 2004-01-01      Aug  111.039098      8  2004    1 2004-08-01  176.858529   \n",
      "2 2004-01-01      Dec  105.845301     12  2004    1 2004-12-01  176.858529   \n",
      "3 2004-01-01      Feb  176.858529      2  2004    1 2004-02-01  176.858529   \n",
      "4 2004-01-01      Jan  125.400099      1  2004    1 2004-01-01  176.858529   \n",
      "\n",
      "   max_price_month  \n",
      "0                0  \n",
      "1                0  \n",
      "2                0  \n",
      "3                1  \n",
      "4                0  \n"
     ]
    }
   ],
   "source": [
    "price_per_month_df['max_price_month'] = np.where(price_per_month_df['value'] == price_per_month_df['max_price'], 1, 0)\n",
    "print(price_per_month_df.head())"
   ]
  },
  {
   "cell_type": "code",
   "execution_count": 20,
   "id": "thermal-radius",
   "metadata": {},
   "outputs": [
    {
     "data": {
      "text/html": [
       "\n",
       "<div id=\"altair-viz-1436d29fcd594182a404c44dc07a7c4d\"></div>\n",
       "<script type=\"text/javascript\">\n",
       "  (function(spec, embedOpt){\n",
       "    let outputDiv = document.currentScript.previousElementSibling;\n",
       "    if (outputDiv.id !== \"altair-viz-1436d29fcd594182a404c44dc07a7c4d\") {\n",
       "      outputDiv = document.getElementById(\"altair-viz-1436d29fcd594182a404c44dc07a7c4d\");\n",
       "    }\n",
       "    const paths = {\n",
       "      \"vega\": \"https://cdn.jsdelivr.net/npm//vega@5?noext\",\n",
       "      \"vega-lib\": \"https://cdn.jsdelivr.net/npm//vega-lib?noext\",\n",
       "      \"vega-lite\": \"https://cdn.jsdelivr.net/npm//vega-lite@4.8.1?noext\",\n",
       "      \"vega-embed\": \"https://cdn.jsdelivr.net/npm//vega-embed@6?noext\",\n",
       "    };\n",
       "\n",
       "    function loadScript(lib) {\n",
       "      return new Promise(function(resolve, reject) {\n",
       "        var s = document.createElement('script');\n",
       "        s.src = paths[lib];\n",
       "        s.async = true;\n",
       "        s.onload = () => resolve(paths[lib]);\n",
       "        s.onerror = () => reject(`Error loading script: ${paths[lib]}`);\n",
       "        document.getElementsByTagName(\"head\")[0].appendChild(s);\n",
       "      });\n",
       "    }\n",
       "\n",
       "    function showError(err) {\n",
       "      outputDiv.innerHTML = `<div class=\"error\" style=\"color:red;\">${err}</div>`;\n",
       "      throw err;\n",
       "    }\n",
       "\n",
       "    function displayChart(vegaEmbed) {\n",
       "      vegaEmbed(outputDiv, spec, embedOpt)\n",
       "        .catch(err => showError(`Javascript Error: ${err.message}<br>This usually means there's a typo in your chart specification. See the javascript console for the full traceback.`));\n",
       "    }\n",
       "\n",
       "    if(typeof define === \"function\" && define.amd) {\n",
       "      requirejs.config({paths});\n",
       "      require([\"vega-embed\"], displayChart, err => showError(`Error loading script: ${err.message}`));\n",
       "    } else if (typeof vegaEmbed === \"function\") {\n",
       "      displayChart(vegaEmbed);\n",
       "    } else {\n",
       "      loadScript(\"vega\")\n",
       "        .then(() => loadScript(\"vega-lite\"))\n",
       "        .then(() => loadScript(\"vega-embed\"))\n",
       "        .catch(showError)\n",
       "        .then(() => displayChart(vegaEmbed));\n",
       "    }\n",
       "  })({\"config\": {\"view\": {\"continuousWidth\": 400, \"continuousHeight\": 300}}, \"layer\": [{\"data\": {\"name\": \"data-77eb1f37ef85b3bfc22854a70e9312b6\"}, \"mark\": \"point\", \"encoding\": {\"color\": {\"type\": \"quantitative\", \"field\": \"max_price_month\"}, \"x\": {\"type\": \"temporal\", \"axis\": {\"title\": \"Date\", \"titleFontSize\": 14}, \"field\": \"date_col\"}, \"y\": {\"type\": \"quantitative\", \"axis\": {\"title\": \"Average Price\", \"titleFontSize\": 14}, \"field\": \"value\"}}, \"title\": {\"text\": \"Average Price Per Month\", \"subtitle\": \"Average Monthly Beef Cattle Price in Alabama, 2004-2018\"}, \"width\": 2000}, {\"data\": {\"name\": \"data-2ae12caef0ec594ca6cc8b605eb1855d\"}, \"mark\": {\"type\": \"text\", \"color\": \"red\", \"dy\": -15}, \"encoding\": {\"text\": {\"type\": \"nominal\", \"field\": \"variable\"}, \"x\": {\"type\": \"temporal\", \"field\": \"date_col\"}, \"y\": {\"type\": \"quantitative\", \"field\": \"value\"}}}], \"$schema\": \"https://vega.github.io/schema/vega-lite/v4.8.1.json\", \"datasets\": {\"data-77eb1f37ef85b3bfc22854a70e9312b6\": [{\"Year\": \"2004-01-01T00:00:00\", \"variable\": \"Apr\", \"value\": 98.25967289719628, \"month\": 4, \"year\": 2004, \"day\": 1, \"date_col\": \"2004-04-01T00:00:00\", \"max_price\": 176.8585294117647, \"max_price_month\": 0}, {\"Year\": \"2004-01-01T00:00:00\", \"variable\": \"Aug\", \"value\": 111.03909803921565, \"month\": 8, \"year\": 2004, \"day\": 1, \"date_col\": \"2004-08-01T00:00:00\", \"max_price\": 176.8585294117647, \"max_price_month\": 0}, {\"Year\": \"2004-01-01T00:00:00\", \"variable\": \"Dec\", \"value\": 105.84530120481924, \"month\": 12, \"year\": 2004, \"day\": 1, \"date_col\": \"2004-12-01T00:00:00\", \"max_price\": 176.8585294117647, \"max_price_month\": 0}, {\"Year\": \"2004-01-01T00:00:00\", \"variable\": \"Feb\", \"value\": 176.8585294117647, \"month\": 2, \"year\": 2004, \"day\": 1, \"date_col\": \"2004-02-01T00:00:00\", \"max_price\": 176.8585294117647, \"max_price_month\": 1}, {\"Year\": \"2004-01-01T00:00:00\", \"variable\": \"Jan\", \"value\": 125.40009900990101, \"month\": 1, \"year\": 2004, \"day\": 1, \"date_col\": \"2004-01-01T00:00:00\", \"max_price\": 176.8585294117647, \"max_price_month\": 0}, {\"Year\": \"2004-01-01T00:00:00\", \"variable\": \"Jul\", \"value\": 110.3459113300493, \"month\": 7, \"year\": 2004, \"day\": 1, \"date_col\": \"2004-07-01T00:00:00\", \"max_price\": 176.8585294117647, \"max_price_month\": 0}, {\"Year\": \"2004-01-01T00:00:00\", \"variable\": \"Jun\", \"value\": 106.88538775510209, \"month\": 6, \"year\": 2004, \"day\": 1, \"date_col\": \"2004-06-01T00:00:00\", \"max_price\": 176.8585294117647, \"max_price_month\": 0}, {\"Year\": \"2004-01-01T00:00:00\", \"variable\": \"Mar\", \"value\": 96.65624277456646, \"month\": 3, \"year\": 2004, \"day\": 1, \"date_col\": \"2004-03-01T00:00:00\", \"max_price\": 176.8585294117647, \"max_price_month\": 0}, {\"Year\": \"2004-01-01T00:00:00\", \"variable\": \"May\", \"value\": 103.13275362318835, \"month\": 5, \"year\": 2004, \"day\": 1, \"date_col\": \"2004-05-01T00:00:00\", \"max_price\": 176.8585294117647, \"max_price_month\": 0}, {\"Year\": \"2004-01-01T00:00:00\", \"variable\": \"Nov\", \"value\": 105.20605809128631, \"month\": 11, \"year\": 2004, \"day\": 1, \"date_col\": \"2004-11-01T00:00:00\", \"max_price\": 176.8585294117647, \"max_price_month\": 0}, {\"Year\": \"2004-01-01T00:00:00\", \"variable\": \"Oct\", \"value\": 105.82958646616552, \"month\": 10, \"year\": 2004, \"day\": 1, \"date_col\": \"2004-10-01T00:00:00\", \"max_price\": 176.8585294117647, \"max_price_month\": 0}, {\"Year\": \"2004-01-01T00:00:00\", \"variable\": \"Sep\", \"value\": 107.09712446351922, \"month\": 9, \"year\": 2004, \"day\": 1, \"date_col\": \"2004-09-01T00:00:00\", \"max_price\": 176.8585294117647, \"max_price_month\": 0}, {\"Year\": \"2005-01-01T00:00:00\", \"variable\": \"Apr\", \"value\": 116.12949416342414, \"month\": 4, \"year\": 2005, \"day\": 1, \"date_col\": \"2005-04-01T00:00:00\", \"max_price\": 116.51857723577231, \"max_price_month\": 0}, {\"Year\": \"2005-01-01T00:00:00\", \"variable\": \"Aug\", \"value\": 107.3620720720721, \"month\": 8, \"year\": 2005, \"day\": 1, \"date_col\": \"2005-08-01T00:00:00\", \"max_price\": 116.51857723577231, \"max_price_month\": 0}, {\"Year\": \"2005-01-01T00:00:00\", \"variable\": \"Dec\", \"value\": 111.99442553191493, \"month\": 12, \"year\": 2005, \"day\": 1, \"date_col\": \"2005-12-01T00:00:00\", \"max_price\": 116.51857723577231, \"max_price_month\": 0}, {\"Year\": \"2005-01-01T00:00:00\", \"variable\": \"Feb\", \"value\": 107.61490636704117, \"month\": 2, \"year\": 2005, \"day\": 1, \"date_col\": \"2005-02-01T00:00:00\", \"max_price\": 116.51857723577231, \"max_price_month\": 0}, {\"Year\": \"2005-01-01T00:00:00\", \"variable\": \"Jan\", \"value\": 105.77480144404329, \"month\": 1, \"year\": 2005, \"day\": 1, \"date_col\": \"2005-01-01T00:00:00\", \"max_price\": 116.51857723577231, \"max_price_month\": 0}, {\"Year\": \"2005-01-01T00:00:00\", \"variable\": \"Jul\", \"value\": 107.83952153110044, \"month\": 7, \"year\": 2005, \"day\": 1, \"date_col\": \"2005-07-01T00:00:00\", \"max_price\": 116.51857723577231, \"max_price_month\": 0}, {\"Year\": \"2005-01-01T00:00:00\", \"variable\": \"Jun\", \"value\": 113.692427184466, \"month\": 6, \"year\": 2005, \"day\": 1, \"date_col\": \"2005-06-01T00:00:00\", \"max_price\": 116.51857723577231, \"max_price_month\": 0}, {\"Year\": \"2005-01-01T00:00:00\", \"variable\": \"Mar\", \"value\": 111.05231884057974, \"month\": 3, \"year\": 2005, \"day\": 1, \"date_col\": \"2005-03-01T00:00:00\", \"max_price\": 116.51857723577231, \"max_price_month\": 0}, {\"Year\": \"2005-01-01T00:00:00\", \"variable\": \"May\", \"value\": 116.51857723577231, \"month\": 5, \"year\": 2005, \"day\": 1, \"date_col\": \"2005-05-01T00:00:00\", \"max_price\": 116.51857723577231, \"max_price_month\": 1}, {\"Year\": \"2005-01-01T00:00:00\", \"variable\": \"Nov\", \"value\": 108.41844961240311, \"month\": 11, \"year\": 2005, \"day\": 1, \"date_col\": \"2005-11-01T00:00:00\", \"max_price\": 116.51857723577231, \"max_price_month\": 0}, {\"Year\": \"2005-01-01T00:00:00\", \"variable\": \"Oct\", \"value\": 107.81791304347834, \"month\": 10, \"year\": 2005, \"day\": 1, \"date_col\": \"2005-10-01T00:00:00\", \"max_price\": 116.51857723577231, \"max_price_month\": 0}, {\"Year\": \"2005-01-01T00:00:00\", \"variable\": \"Sep\", \"value\": 109.00243654822346, \"month\": 9, \"year\": 2005, \"day\": 1, \"date_col\": \"2005-09-01T00:00:00\", \"max_price\": 116.51857723577231, \"max_price_month\": 0}, {\"Year\": \"2006-01-01T00:00:00\", \"variable\": \"Apr\", \"value\": 105.54266094420596, \"month\": 4, \"year\": 2006, \"day\": 1, \"date_col\": \"2006-04-01T00:00:00\", \"max_price\": 115.4780073800739, \"max_price_month\": 0}, {\"Year\": \"2006-01-01T00:00:00\", \"variable\": \"Aug\", \"value\": 108.35429718875503, \"month\": 8, \"year\": 2006, \"day\": 1, \"date_col\": \"2006-08-01T00:00:00\", \"max_price\": 115.4780073800739, \"max_price_month\": 0}, {\"Year\": \"2006-01-01T00:00:00\", \"variable\": \"Dec\", \"value\": 93.93611570247933, \"month\": 12, \"year\": 2006, \"day\": 1, \"date_col\": \"2006-12-01T00:00:00\", \"max_price\": 115.4780073800739, \"max_price_month\": 0}, {\"Year\": \"2006-01-01T00:00:00\", \"variable\": \"Feb\", \"value\": 115.4780073800739, \"month\": 2, \"year\": 2006, \"day\": 1, \"date_col\": \"2006-02-01T00:00:00\", \"max_price\": 115.4780073800739, \"max_price_month\": 1}, {\"Year\": \"2006-01-01T00:00:00\", \"variable\": \"Jan\", \"value\": 113.7498983050847, \"month\": 1, \"year\": 2006, \"day\": 1, \"date_col\": \"2006-01-01T00:00:00\", \"max_price\": 115.4780073800739, \"max_price_month\": 0}, {\"Year\": \"2006-01-01T00:00:00\", \"variable\": \"Jul\", \"value\": 106.69164383561645, \"month\": 7, \"year\": 2006, \"day\": 1, \"date_col\": \"2006-07-01T00:00:00\", \"max_price\": 115.4780073800739, \"max_price_month\": 0}, {\"Year\": \"2006-01-01T00:00:00\", \"variable\": \"Jun\", \"value\": 106.4666129032258, \"month\": 6, \"year\": 2006, \"day\": 1, \"date_col\": \"2006-06-01T00:00:00\", \"max_price\": 115.4780073800739, \"max_price_month\": 0}, {\"Year\": \"2006-01-01T00:00:00\", \"variable\": \"Mar\", \"value\": 110.62492187500004, \"month\": 3, \"year\": 2006, \"day\": 1, \"date_col\": \"2006-03-01T00:00:00\", \"max_price\": 115.4780073800739, \"max_price_month\": 0}, {\"Year\": \"2006-01-01T00:00:00\", \"variable\": \"May\", \"value\": 105.6308154506438, \"month\": 5, \"year\": 2006, \"day\": 1, \"date_col\": \"2006-05-01T00:00:00\", \"max_price\": 115.4780073800739, \"max_price_month\": 0}, {\"Year\": \"2006-01-01T00:00:00\", \"variable\": \"Nov\", \"value\": 93.53512500000002, \"month\": 11, \"year\": 2006, \"day\": 1, \"date_col\": \"2006-11-01T00:00:00\", \"max_price\": 115.4780073800739, \"max_price_month\": 0}, {\"Year\": \"2006-01-01T00:00:00\", \"variable\": \"Oct\", \"value\": 102.22789883268477, \"month\": 10, \"year\": 2006, \"day\": 1, \"date_col\": \"2006-10-01T00:00:00\", \"max_price\": 115.4780073800739, \"max_price_month\": 0}, {\"Year\": \"2006-01-01T00:00:00\", \"variable\": \"Sep\", \"value\": 108.30524390243906, \"month\": 9, \"year\": 2006, \"day\": 1, \"date_col\": \"2006-09-01T00:00:00\", \"max_price\": 115.4780073800739, \"max_price_month\": 0}, {\"Year\": \"2007-01-01T00:00:00\", \"variable\": \"Apr\", \"value\": 102.97125401929262, \"month\": 4, \"year\": 2007, \"day\": 1, \"date_col\": \"2007-04-01T00:00:00\", \"max_price\": 105.3419305019305, \"max_price_month\": 0}, {\"Year\": \"2007-01-01T00:00:00\", \"variable\": \"Aug\", \"value\": 105.26903225806454, \"month\": 8, \"year\": 2007, \"day\": 1, \"date_col\": \"2007-08-01T00:00:00\", \"max_price\": 105.3419305019305, \"max_price_month\": 0}, {\"Year\": \"2007-01-01T00:00:00\", \"variable\": \"Dec\", \"value\": 93.36198630136984, \"month\": 12, \"year\": 2007, \"day\": 1, \"date_col\": \"2007-12-01T00:00:00\", \"max_price\": 105.3419305019305, \"max_price_month\": 0}, {\"Year\": \"2007-01-01T00:00:00\", \"variable\": \"Feb\", \"value\": 95.47873684210522, \"month\": 2, \"year\": 2007, \"day\": 1, \"date_col\": \"2007-02-01T00:00:00\", \"max_price\": 105.3419305019305, \"max_price_month\": 0}, {\"Year\": \"2007-01-01T00:00:00\", \"variable\": \"Jan\", \"value\": 92.54099206349206, \"month\": 1, \"year\": 2007, \"day\": 1, \"date_col\": \"2007-01-01T00:00:00\", \"max_price\": 105.3419305019305, \"max_price_month\": 0}, {\"Year\": \"2007-01-01T00:00:00\", \"variable\": \"Jul\", \"value\": 105.3419305019305, \"month\": 7, \"year\": 2007, \"day\": 1, \"date_col\": \"2007-07-01T00:00:00\", \"max_price\": 105.3419305019305, \"max_price_month\": 1}, {\"Year\": \"2007-01-01T00:00:00\", \"variable\": \"Jun\", \"value\": 98.5618007662835, \"month\": 6, \"year\": 2007, \"day\": 1, \"date_col\": \"2007-06-01T00:00:00\", \"max_price\": 105.3419305019305, \"max_price_month\": 0}, {\"Year\": \"2007-01-01T00:00:00\", \"variable\": \"Mar\", \"value\": 102.80909698996655, \"month\": 3, \"year\": 2007, \"day\": 1, \"date_col\": \"2007-03-01T00:00:00\", \"max_price\": 105.3419305019305, \"max_price_month\": 0}, {\"Year\": \"2007-01-01T00:00:00\", \"variable\": \"May\", \"value\": 101.39695384615379, \"month\": 5, \"year\": 2007, \"day\": 1, \"date_col\": \"2007-05-01T00:00:00\", \"max_price\": 105.3419305019305, \"max_price_month\": 0}, {\"Year\": \"2007-01-01T00:00:00\", \"variable\": \"Nov\", \"value\": 93.84082437275984, \"month\": 11, \"year\": 2007, \"day\": 1, \"date_col\": \"2007-11-01T00:00:00\", \"max_price\": 105.3419305019305, \"max_price_month\": 0}, {\"Year\": \"2007-01-01T00:00:00\", \"variable\": \"Oct\", \"value\": 94.3841692789969, \"month\": 10, \"year\": 2007, \"day\": 1, \"date_col\": \"2007-10-01T00:00:00\", \"max_price\": 105.3419305019305, \"max_price_month\": 0}, {\"Year\": \"2007-01-01T00:00:00\", \"variable\": \"Sep\", \"value\": 103.13833333333338, \"month\": 9, \"year\": 2007, \"day\": 1, \"date_col\": \"2007-09-01T00:00:00\", \"max_price\": 105.3419305019305, \"max_price_month\": 0}, {\"Year\": \"2008-01-01T00:00:00\", \"variable\": \"Apr\", \"value\": 89.80050847457629, \"month\": 4, \"year\": 2008, \"day\": 1, \"date_col\": \"2008-04-01T00:00:00\", \"max_price\": 97.15622580645166, \"max_price_month\": 0}, {\"Year\": \"2008-01-01T00:00:00\", \"variable\": \"Aug\", \"value\": 93.49951219512191, \"month\": 8, \"year\": 2008, \"day\": 1, \"date_col\": \"2008-08-01T00:00:00\", \"max_price\": 97.15622580645166, \"max_price_month\": 0}, {\"Year\": \"2008-01-01T00:00:00\", \"variable\": \"Dec\", \"value\": 75.1072075471698, \"month\": 12, \"year\": 2008, \"day\": 1, \"date_col\": \"2008-12-01T00:00:00\", \"max_price\": 97.15622580645166, \"max_price_month\": 0}, {\"Year\": \"2008-01-01T00:00:00\", \"variable\": \"Feb\", \"value\": 97.15622580645166, \"month\": 2, \"year\": 2008, \"day\": 1, \"date_col\": \"2008-02-01T00:00:00\", \"max_price\": 97.15622580645166, \"max_price_month\": 1}, {\"Year\": \"2008-01-01T00:00:00\", \"variable\": \"Jan\", \"value\": 89.59288079470195, \"month\": 1, \"year\": 2008, \"day\": 1, \"date_col\": \"2008-01-01T00:00:00\", \"max_price\": 97.15622580645166, \"max_price_month\": 0}, {\"Year\": \"2008-01-01T00:00:00\", \"variable\": \"Jul\", \"value\": 89.70141447368427, \"month\": 7, \"year\": 2008, \"day\": 1, \"date_col\": \"2008-07-01T00:00:00\", \"max_price\": 97.15622580645166, \"max_price_month\": 0}, {\"Year\": \"2008-01-01T00:00:00\", \"variable\": \"Jun\", \"value\": 91.70267558528427, \"month\": 6, \"year\": 2008, \"day\": 1, \"date_col\": \"2008-06-01T00:00:00\", \"max_price\": 97.15622580645166, \"max_price_month\": 0}, {\"Year\": \"2008-01-01T00:00:00\", \"variable\": \"Mar\", \"value\": 93.80553797468357, \"month\": 3, \"year\": 2008, \"day\": 1, \"date_col\": \"2008-03-01T00:00:00\", \"max_price\": 97.15622580645166, \"max_price_month\": 0}, {\"Year\": \"2008-01-01T00:00:00\", \"variable\": \"May\", \"value\": 93.67879194630868, \"month\": 5, \"year\": 2008, \"day\": 1, \"date_col\": \"2008-05-01T00:00:00\", \"max_price\": 97.15622580645166, \"max_price_month\": 0}, {\"Year\": \"2008-01-01T00:00:00\", \"variable\": \"Nov\", \"value\": 80.7389735099338, \"month\": 11, \"year\": 2008, \"day\": 1, \"date_col\": \"2008-11-01T00:00:00\", \"max_price\": 97.15622580645166, \"max_price_month\": 0}, {\"Year\": \"2008-01-01T00:00:00\", \"variable\": \"Oct\", \"value\": 82.05687296416934, \"month\": 10, \"year\": 2008, \"day\": 1, \"date_col\": \"2008-10-01T00:00:00\", \"max_price\": 97.15622580645166, \"max_price_month\": 0}, {\"Year\": \"2008-01-01T00:00:00\", \"variable\": \"Sep\", \"value\": 91.07111498257837, \"month\": 9, \"year\": 2008, \"day\": 1, \"date_col\": \"2008-09-01T00:00:00\", \"max_price\": 97.15622580645166, \"max_price_month\": 0}, {\"Year\": \"2009-01-01T00:00:00\", \"variable\": \"Apr\", \"value\": 86.93730639730636, \"month\": 4, \"year\": 2009, \"day\": 1, \"date_col\": \"2009-04-01T00:00:00\", \"max_price\": 89.99515789473686, \"max_price_month\": 0}, {\"Year\": \"2009-01-01T00:00:00\", \"variable\": \"Aug\", \"value\": 87.28846975088973, \"month\": 8, \"year\": 2009, \"day\": 1, \"date_col\": \"2009-08-01T00:00:00\", \"max_price\": 89.99515789473686, \"max_price_month\": 0}, {\"Year\": \"2009-01-01T00:00:00\", \"variable\": \"Dec\", \"value\": 81.20397683397687, \"month\": 12, \"year\": 2009, \"day\": 1, \"date_col\": \"2009-12-01T00:00:00\", \"max_price\": 89.99515789473686, \"max_price_month\": 0}, {\"Year\": \"2009-01-01T00:00:00\", \"variable\": \"Feb\", \"value\": 81.75808176100634, \"month\": 2, \"year\": 2009, \"day\": 1, \"date_col\": \"2009-02-01T00:00:00\", \"max_price\": 89.99515789473686, \"max_price_month\": 0}, {\"Year\": \"2009-01-01T00:00:00\", \"variable\": \"Jan\", \"value\": 81.9634812286689, \"month\": 1, \"year\": 2009, \"day\": 1, \"date_col\": \"2009-01-01T00:00:00\", \"max_price\": 89.99515789473686, \"max_price_month\": 0}, {\"Year\": \"2009-01-01T00:00:00\", \"variable\": \"Jul\", \"value\": 86.45891696750898, \"month\": 7, \"year\": 2009, \"day\": 1, \"date_col\": \"2009-07-01T00:00:00\", \"max_price\": 89.99515789473686, \"max_price_month\": 0}, {\"Year\": \"2009-01-01T00:00:00\", \"variable\": \"Jun\", \"value\": 87.56000000000002, \"month\": 6, \"year\": 2009, \"day\": 1, \"date_col\": \"2009-06-01T00:00:00\", \"max_price\": 89.99515789473686, \"max_price_month\": 0}, {\"Year\": \"2009-01-01T00:00:00\", \"variable\": \"Mar\", \"value\": 83.82467128027685, \"month\": 3, \"year\": 2009, \"day\": 1, \"date_col\": \"2009-03-01T00:00:00\", \"max_price\": 89.99515789473686, \"max_price_month\": 0}, {\"Year\": \"2009-01-01T00:00:00\", \"variable\": \"May\", \"value\": 89.99515789473686, \"month\": 5, \"year\": 2009, \"day\": 1, \"date_col\": \"2009-05-01T00:00:00\", \"max_price\": 89.99515789473686, \"max_price_month\": 1}, {\"Year\": \"2009-01-01T00:00:00\", \"variable\": \"Nov\", \"value\": 80.61508650519025, \"month\": 11, \"year\": 2009, \"day\": 1, \"date_col\": \"2009-11-01T00:00:00\", \"max_price\": 89.99515789473686, \"max_price_month\": 0}, {\"Year\": \"2009-01-01T00:00:00\", \"variable\": \"Oct\", \"value\": 78.29150501672238, \"month\": 10, \"year\": 2009, \"day\": 1, \"date_col\": \"2009-10-01T00:00:00\", \"max_price\": 89.99515789473686, \"max_price_month\": 0}, {\"Year\": \"2009-01-01T00:00:00\", \"variable\": \"Sep\", \"value\": 83.62722044728433, \"month\": 9, \"year\": 2009, \"day\": 1, \"date_col\": \"2009-09-01T00:00:00\", \"max_price\": 89.99515789473686, \"max_price_month\": 0}, {\"Year\": \"2011-01-01T00:00:00\", \"variable\": \"Apr\", \"value\": 124.55408921933089, \"month\": 4, \"year\": 2011, \"day\": 1, \"date_col\": \"2011-04-01T00:00:00\", \"max_price\": 127.42837837837835, \"max_price_month\": 0}, {\"Year\": \"2011-01-01T00:00:00\", \"variable\": \"Aug\", \"value\": 114.74092436974792, \"month\": 8, \"year\": 2011, \"day\": 1, \"date_col\": \"2011-08-01T00:00:00\", \"max_price\": 127.42837837837835, \"max_price_month\": 0}, {\"Year\": \"2011-01-01T00:00:00\", \"variable\": \"Dec\", \"value\": 127.42837837837835, \"month\": 12, \"year\": 2011, \"day\": 1, \"date_col\": \"2011-12-01T00:00:00\", \"max_price\": 127.42837837837835, \"max_price_month\": 1}, {\"Year\": \"2011-01-01T00:00:00\", \"variable\": \"Feb\", \"value\": 116.05692028985504, \"month\": 2, \"year\": 2011, \"day\": 1, \"date_col\": \"2011-02-01T00:00:00\", \"max_price\": 127.42837837837835, \"max_price_month\": 0}, {\"Year\": \"2011-01-01T00:00:00\", \"variable\": \"Jan\", \"value\": 110.5396212121213, \"month\": 1, \"year\": 2011, \"day\": 1, \"date_col\": \"2011-01-01T00:00:00\", \"max_price\": 127.42837837837835, \"max_price_month\": 0}, {\"Year\": \"2011-01-01T00:00:00\", \"variable\": \"Jul\", \"value\": 119.70656862745102, \"month\": 7, \"year\": 2011, \"day\": 1, \"date_col\": \"2011-07-01T00:00:00\", \"max_price\": 127.42837837837835, \"max_price_month\": 0}, {\"Year\": \"2011-01-01T00:00:00\", \"variable\": \"Jun\", \"value\": 113.77547169811317, \"month\": 6, \"year\": 2011, \"day\": 1, \"date_col\": \"2011-06-01T00:00:00\", \"max_price\": 127.42837837837835, \"max_price_month\": 0}, {\"Year\": \"2011-01-01T00:00:00\", \"variable\": \"Mar\", \"value\": 125.29172043010747, \"month\": 3, \"year\": 2011, \"day\": 1, \"date_col\": \"2011-03-01T00:00:00\", \"max_price\": 127.42837837837835, \"max_price_month\": 0}, {\"Year\": \"2011-01-01T00:00:00\", \"variable\": \"May\", \"value\": 116.33929245283015, \"month\": 5, \"year\": 2011, \"day\": 1, \"date_col\": \"2011-05-01T00:00:00\", \"max_price\": 127.42837837837835, \"max_price_month\": 0}, {\"Year\": \"2011-01-01T00:00:00\", \"variable\": \"Nov\", \"value\": 119.56570731707319, \"month\": 11, \"year\": 2011, \"day\": 1, \"date_col\": \"2011-11-01T00:00:00\", \"max_price\": 127.42837837837835, \"max_price_month\": 0}, {\"Year\": \"2011-01-01T00:00:00\", \"variable\": \"Oct\", \"value\": 112.24514018691589, \"month\": 10, \"year\": 2011, \"day\": 1, \"date_col\": \"2011-10-01T00:00:00\", \"max_price\": 127.42837837837835, \"max_price_month\": 0}, {\"Year\": \"2011-01-01T00:00:00\", \"variable\": \"Sep\", \"value\": 109.05633027522934, \"month\": 9, \"year\": 2011, \"day\": 1, \"date_col\": \"2011-09-01T00:00:00\", \"max_price\": 127.42837837837835, \"max_price_month\": 0}, {\"Year\": \"2012-01-01T00:00:00\", \"variable\": \"Apr\", \"value\": 152.39499999999998, \"month\": 4, \"year\": 2012, \"day\": 1, \"date_col\": \"2012-04-01T00:00:00\", \"max_price\": 155.7026724137931, \"max_price_month\": 0}, {\"Year\": \"2012-01-01T00:00:00\", \"variable\": \"Aug\", \"value\": 129.22447761194027, \"month\": 8, \"year\": 2012, \"day\": 1, \"date_col\": \"2012-08-01T00:00:00\", \"max_price\": 155.7026724137931, \"max_price_month\": 0}, {\"Year\": \"2012-01-01T00:00:00\", \"variable\": \"Dec\", \"value\": 137.83920000000003, \"month\": 12, \"year\": 2012, \"day\": 1, \"date_col\": \"2012-12-01T00:00:00\", \"max_price\": 155.7026724137931, \"max_price_month\": 0}, {\"Year\": \"2012-01-01T00:00:00\", \"variable\": \"Feb\", \"value\": 150.78107913669066, \"month\": 2, \"year\": 2012, \"day\": 1, \"date_col\": \"2012-02-01T00:00:00\", \"max_price\": 155.7026724137931, \"max_price_month\": 0}, {\"Year\": \"2012-01-01T00:00:00\", \"variable\": \"Jan\", \"value\": 137.36594117647056, \"month\": 1, \"year\": 2012, \"day\": 1, \"date_col\": \"2012-01-01T00:00:00\", \"max_price\": 155.7026724137931, \"max_price_month\": 0}, {\"Year\": \"2012-01-01T00:00:00\", \"variable\": \"Jul\", \"value\": 127.5404761904762, \"month\": 7, \"year\": 2012, \"day\": 1, \"date_col\": \"2012-07-01T00:00:00\", \"max_price\": 155.7026724137931, \"max_price_month\": 0}, {\"Year\": \"2012-01-01T00:00:00\", \"variable\": \"Jun\", \"value\": 144.1164835164835, \"month\": 6, \"year\": 2012, \"day\": 1, \"date_col\": \"2012-06-01T00:00:00\", \"max_price\": 155.7026724137931, \"max_price_month\": 0}, {\"Year\": \"2012-01-01T00:00:00\", \"variable\": \"Mar\", \"value\": 155.7026724137931, \"month\": 3, \"year\": 2012, \"day\": 1, \"date_col\": \"2012-03-01T00:00:00\", \"max_price\": 155.7026724137931, \"max_price_month\": 1}, {\"Year\": \"2012-01-01T00:00:00\", \"variable\": \"May\", \"value\": 152.47210937499995, \"month\": 5, \"year\": 2012, \"day\": 1, \"date_col\": \"2012-05-01T00:00:00\", \"max_price\": 155.7026724137931, \"max_price_month\": 0}, {\"Year\": \"2012-01-01T00:00:00\", \"variable\": \"Nov\", \"value\": 135.11038461538465, \"month\": 11, \"year\": 2012, \"day\": 1, \"date_col\": \"2012-11-01T00:00:00\", \"max_price\": 155.7026724137931, \"max_price_month\": 0}, {\"Year\": \"2012-01-01T00:00:00\", \"variable\": \"Oct\", \"value\": 134.1732592592593, \"month\": 10, \"year\": 2012, \"day\": 1, \"date_col\": \"2012-10-01T00:00:00\", \"max_price\": 155.7026724137931, \"max_price_month\": 0}, {\"Year\": \"2012-01-01T00:00:00\", \"variable\": \"Sep\", \"value\": 138.05165413533842, \"month\": 9, \"year\": 2012, \"day\": 1, \"date_col\": \"2012-09-01T00:00:00\", \"max_price\": 155.7026724137931, \"max_price_month\": 0}, {\"Year\": \"2013-01-01T00:00:00\", \"variable\": \"Apr\", \"value\": 131.52568345323743, \"month\": 4, \"year\": 2013, \"day\": 1, \"date_col\": \"2013-04-01T00:00:00\", \"max_price\": 152.78152, \"max_price_month\": 0}, {\"Year\": \"2013-01-01T00:00:00\", \"variable\": \"Aug\", \"value\": 141.10461538461539, \"month\": 8, \"year\": 2013, \"day\": 1, \"date_col\": \"2013-08-01T00:00:00\", \"max_price\": 152.78152, \"max_price_month\": 0}, {\"Year\": \"2013-01-01T00:00:00\", \"variable\": \"Dec\", \"value\": 152.78152, \"month\": 12, \"year\": 2013, \"day\": 1, \"date_col\": \"2013-12-01T00:00:00\", \"max_price\": 152.78152, \"max_price_month\": 1}, {\"Year\": \"2013-01-01T00:00:00\", \"variable\": \"Feb\", \"value\": 144.25894736842116, \"month\": 2, \"year\": 2013, \"day\": 1, \"date_col\": \"2013-02-01T00:00:00\", \"max_price\": 152.78152, \"max_price_month\": 0}, {\"Year\": \"2013-01-01T00:00:00\", \"variable\": \"Jan\", \"value\": 144.63954545454538, \"month\": 1, \"year\": 2013, \"day\": 1, \"date_col\": \"2013-01-01T00:00:00\", \"max_price\": 152.78152, \"max_price_month\": 0}, {\"Year\": \"2013-01-01T00:00:00\", \"variable\": \"Jul\", \"value\": 135.00582089552236, \"month\": 7, \"year\": 2013, \"day\": 1, \"date_col\": \"2013-07-01T00:00:00\", \"max_price\": 152.78152, \"max_price_month\": 0}, {\"Year\": \"2013-01-01T00:00:00\", \"variable\": \"Jun\", \"value\": 125.5177037037037, \"month\": 6, \"year\": 2013, \"day\": 1, \"date_col\": \"2013-06-01T00:00:00\", \"max_price\": 152.78152, \"max_price_month\": 0}, {\"Year\": \"2013-01-01T00:00:00\", \"variable\": \"Mar\", \"value\": 137.29239130434777, \"month\": 3, \"year\": 2013, \"day\": 1, \"date_col\": \"2013-03-01T00:00:00\", \"max_price\": 152.78152, \"max_price_month\": 0}, {\"Year\": \"2013-01-01T00:00:00\", \"variable\": \"May\", \"value\": 128.11362416107377, \"month\": 5, \"year\": 2013, \"day\": 1, \"date_col\": \"2013-05-01T00:00:00\", \"max_price\": 152.78152, \"max_price_month\": 0}, {\"Year\": \"2013-01-01T00:00:00\", \"variable\": \"Nov\", \"value\": 150.7327941176471, \"month\": 11, \"year\": 2013, \"day\": 1, \"date_col\": \"2013-11-01T00:00:00\", \"max_price\": 152.78152, \"max_price_month\": 0}, {\"Year\": \"2013-01-01T00:00:00\", \"variable\": \"Oct\", \"value\": 147.44030303030306, \"month\": 10, \"year\": 2013, \"day\": 1, \"date_col\": \"2013-10-01T00:00:00\", \"max_price\": 152.78152, \"max_price_month\": 0}, {\"Year\": \"2013-01-01T00:00:00\", \"variable\": \"Sep\", \"value\": 139.36601503759394, \"month\": 9, \"year\": 2013, \"day\": 1, \"date_col\": \"2013-09-01T00:00:00\", \"max_price\": 152.78152, \"max_price_month\": 0}, {\"Year\": \"2014-01-01T00:00:00\", \"variable\": \"Apr\", \"value\": 183.35740157480322, \"month\": 4, \"year\": 2014, \"day\": 1, \"date_col\": \"2014-04-01T00:00:00\", \"max_price\": 247.43409836065572, \"max_price_month\": 0}, {\"Year\": \"2014-01-01T00:00:00\", \"variable\": \"Aug\", \"value\": 226.2254838709677, \"month\": 8, \"year\": 2014, \"day\": 1, \"date_col\": \"2014-08-01T00:00:00\", \"max_price\": 247.43409836065572, \"max_price_month\": 0}, {\"Year\": \"2014-01-01T00:00:00\", \"variable\": \"Dec\", \"value\": 247.43409836065572, \"month\": 12, \"year\": 2014, \"day\": 1, \"date_col\": \"2014-12-01T00:00:00\", \"max_price\": 247.43409836065572, \"max_price_month\": 1}, {\"Year\": \"2014-01-01T00:00:00\", \"variable\": \"Feb\", \"value\": 170.4751538461538, \"month\": 2, \"year\": 2014, \"day\": 1, \"date_col\": \"2014-02-01T00:00:00\", \"max_price\": 247.43409836065572, \"max_price_month\": 0}, {\"Year\": \"2014-01-01T00:00:00\", \"variable\": \"Jan\", \"value\": 165.09446153846153, \"month\": 1, \"year\": 2014, \"day\": 1, \"date_col\": \"2014-01-01T00:00:00\", \"max_price\": 247.43409836065572, \"max_price_month\": 0}, {\"Year\": \"2014-01-01T00:00:00\", \"variable\": \"Jul\", \"value\": 221.9897619047619, \"month\": 7, \"year\": 2014, \"day\": 1, \"date_col\": \"2014-07-01T00:00:00\", \"max_price\": 247.43409836065572, \"max_price_month\": 0}, {\"Year\": \"2014-01-01T00:00:00\", \"variable\": \"Jun\", \"value\": 206.98924242424252, \"month\": 6, \"year\": 2014, \"day\": 1, \"date_col\": \"2014-06-01T00:00:00\", \"max_price\": 247.43409836065572, \"max_price_month\": 0}, {\"Year\": \"2014-01-01T00:00:00\", \"variable\": \"Mar\", \"value\": 181.36639705882354, \"month\": 3, \"year\": 2014, \"day\": 1, \"date_col\": \"2014-03-01T00:00:00\", \"max_price\": 247.43409836065572, \"max_price_month\": 0}, {\"Year\": \"2014-01-01T00:00:00\", \"variable\": \"May\", \"value\": 193.02468253968266, \"month\": 5, \"year\": 2014, \"day\": 1, \"date_col\": \"2014-05-01T00:00:00\", \"max_price\": 247.43409836065572, \"max_price_month\": 0}, {\"Year\": \"2014-01-01T00:00:00\", \"variable\": \"Nov\", \"value\": 242.57722222222213, \"month\": 11, \"year\": 2014, \"day\": 1, \"date_col\": \"2014-11-01T00:00:00\", \"max_price\": 247.43409836065572, \"max_price_month\": 0}, {\"Year\": \"2014-01-01T00:00:00\", \"variable\": \"Oct\", \"value\": 234.78159090909088, \"month\": 10, \"year\": 2014, \"day\": 1, \"date_col\": \"2014-10-01T00:00:00\", \"max_price\": 247.43409836065572, \"max_price_month\": 0}, {\"Year\": \"2014-01-01T00:00:00\", \"variable\": \"Sep\", \"value\": 230.45674418604648, \"month\": 9, \"year\": 2014, \"day\": 1, \"date_col\": \"2014-09-01T00:00:00\", \"max_price\": 247.43409836065572, \"max_price_month\": 0}, {\"Year\": \"2015-01-01T00:00:00\", \"variable\": \"Apr\", \"value\": 245.42603053435107, \"month\": 4, \"year\": 2015, \"day\": 1, \"date_col\": \"2015-04-01T00:00:00\", \"max_price\": 246.97152173913048, \"max_price_month\": 0}, {\"Year\": \"2015-01-01T00:00:00\", \"variable\": \"Aug\", \"value\": 221.98071428571419, \"month\": 8, \"year\": 2015, \"day\": 1, \"date_col\": \"2015-08-01T00:00:00\", \"max_price\": 246.97152173913048, \"max_price_month\": 0}, {\"Year\": \"2015-01-01T00:00:00\", \"variable\": \"Dec\", \"value\": 152.7406837606838, \"month\": 12, \"year\": 2015, \"day\": 1, \"date_col\": \"2015-12-01T00:00:00\", \"max_price\": 246.97152173913048, \"max_price_month\": 0}, {\"Year\": \"2015-01-01T00:00:00\", \"variable\": \"Feb\", \"value\": 241.5713008130081, \"month\": 2, \"year\": 2015, \"day\": 1, \"date_col\": \"2015-02-01T00:00:00\", \"max_price\": 246.97152173913048, \"max_price_month\": 0}, {\"Year\": \"2015-01-01T00:00:00\", \"variable\": \"Jan\", \"value\": 240.329296875, \"month\": 1, \"year\": 2015, \"day\": 1, \"date_col\": \"2015-01-01T00:00:00\", \"max_price\": 246.97152173913048, \"max_price_month\": 0}, {\"Year\": \"2015-01-01T00:00:00\", \"variable\": \"Jul\", \"value\": 226.8039062500001, \"month\": 7, \"year\": 2015, \"day\": 1, \"date_col\": \"2015-07-01T00:00:00\", \"max_price\": 246.97152173913048, \"max_price_month\": 0}, {\"Year\": \"2015-01-01T00:00:00\", \"variable\": \"Jun\", \"value\": 239.9482352941176, \"month\": 6, \"year\": 2015, \"day\": 1, \"date_col\": \"2015-06-01T00:00:00\", \"max_price\": 246.97152173913048, \"max_price_month\": 0}, {\"Year\": \"2015-01-01T00:00:00\", \"variable\": \"Mar\", \"value\": 246.97152173913048, \"month\": 3, \"year\": 2015, \"day\": 1, \"date_col\": \"2015-03-01T00:00:00\", \"max_price\": 246.97152173913048, \"max_price_month\": 1}, {\"Year\": \"2015-01-01T00:00:00\", \"variable\": \"May\", \"value\": 242.2851937984497, \"month\": 5, \"year\": 2015, \"day\": 1, \"date_col\": \"2015-05-01T00:00:00\", \"max_price\": 246.97152173913048, \"max_price_month\": 0}, {\"Year\": \"2015-01-01T00:00:00\", \"variable\": \"Nov\", \"value\": 164.16456692913385, \"month\": 11, \"year\": 2015, \"day\": 1, \"date_col\": \"2015-11-01T00:00:00\", \"max_price\": 246.97152173913048, \"max_price_month\": 0}, {\"Year\": \"2015-01-01T00:00:00\", \"variable\": \"Oct\", \"value\": 172.15825396825392, \"month\": 10, \"year\": 2015, \"day\": 1, \"date_col\": \"2015-10-01T00:00:00\", \"max_price\": 246.97152173913048, \"max_price_month\": 0}, {\"Year\": \"2015-01-01T00:00:00\", \"variable\": \"Sep\", \"value\": 191.38447761194038, \"month\": 9, \"year\": 2015, \"day\": 1, \"date_col\": \"2015-09-01T00:00:00\", \"max_price\": 246.97152173913048, \"max_price_month\": 0}, {\"Year\": \"2016-01-01T00:00:00\", \"variable\": \"Apr\", \"value\": 146.66259541984732, \"month\": 4, \"year\": 2016, \"day\": 1, \"date_col\": \"2016-04-01T00:00:00\", \"max_price\": 162.55872000000002, \"max_price_month\": 0}, {\"Year\": \"2016-01-01T00:00:00\", \"variable\": \"Aug\", \"value\": 127.54320312500003, \"month\": 8, \"year\": 2016, \"day\": 1, \"date_col\": \"2016-08-01T00:00:00\", \"max_price\": 162.55872000000002, \"max_price_month\": 0}, {\"Year\": \"2016-01-01T00:00:00\", \"variable\": \"Dec\", \"value\": 115.81439655172417, \"month\": 12, \"year\": 2016, \"day\": 1, \"date_col\": \"2016-12-01T00:00:00\", \"max_price\": 162.55872000000002, \"max_price_month\": 0}, {\"Year\": \"2016-01-01T00:00:00\", \"variable\": \"Feb\", \"value\": 158.46674603174608, \"month\": 2, \"year\": 2016, \"day\": 1, \"date_col\": \"2016-02-01T00:00:00\", \"max_price\": 162.55872000000002, \"max_price_month\": 0}, {\"Year\": \"2016-01-01T00:00:00\", \"variable\": \"Jan\", \"value\": 159.3945600000001, \"month\": 1, \"year\": 2016, \"day\": 1, \"date_col\": \"2016-01-01T00:00:00\", \"max_price\": 162.55872000000002, \"max_price_month\": 0}, {\"Year\": \"2016-01-01T00:00:00\", \"variable\": \"Jul\", \"value\": 120.58142857142855, \"month\": 7, \"year\": 2016, \"day\": 1, \"date_col\": \"2016-07-01T00:00:00\", \"max_price\": 162.55872000000002, \"max_price_month\": 0}, {\"Year\": \"2016-01-01T00:00:00\", \"variable\": \"Jun\", \"value\": 125.94626984126977, \"month\": 6, \"year\": 2016, \"day\": 1, \"date_col\": \"2016-06-01T00:00:00\", \"max_price\": 162.55872000000002, \"max_price_month\": 0}, {\"Year\": \"2016-01-01T00:00:00\", \"variable\": \"Mar\", \"value\": 162.55872000000002, \"month\": 3, \"year\": 2016, \"day\": 1, \"date_col\": \"2016-03-01T00:00:00\", \"max_price\": 162.55872000000002, \"max_price_month\": 1}, {\"Year\": \"2016-01-01T00:00:00\", \"variable\": \"May\", \"value\": 134.5441538461538, \"month\": 5, \"year\": 2016, \"day\": 1, \"date_col\": \"2016-05-01T00:00:00\", \"max_price\": 162.55872000000002, \"max_price_month\": 0}, {\"Year\": \"2016-01-01T00:00:00\", \"variable\": \"Nov\", \"value\": 107.99939393939384, \"month\": 11, \"year\": 2016, \"day\": 1, \"date_col\": \"2016-11-01T00:00:00\", \"max_price\": 162.55872000000002, \"max_price_month\": 0}, {\"Year\": \"2016-01-01T00:00:00\", \"variable\": \"Oct\", \"value\": 98.69432835820894, \"month\": 10, \"year\": 2016, \"day\": 1, \"date_col\": \"2016-10-01T00:00:00\", \"max_price\": 162.55872000000002, \"max_price_month\": 0}, {\"Year\": \"2016-01-01T00:00:00\", \"variable\": \"Sep\", \"value\": 112.843779527559, \"month\": 9, \"year\": 2016, \"day\": 1, \"date_col\": \"2016-09-01T00:00:00\", \"max_price\": 162.55872000000002, \"max_price_month\": 0}, {\"Year\": \"2017-01-01T00:00:00\", \"variable\": \"Apr\", \"value\": 131.16345864661656, \"month\": 4, \"year\": 2017, \"day\": 1, \"date_col\": \"2017-04-01T00:00:00\", \"max_price\": 136.1089705882353, \"max_price_month\": 0}, {\"Year\": \"2017-01-01T00:00:00\", \"variable\": \"Aug\", \"value\": 129.72159090909088, \"month\": 8, \"year\": 2017, \"day\": 1, \"date_col\": \"2017-08-01T00:00:00\", \"max_price\": 136.1089705882353, \"max_price_month\": 0}, {\"Year\": \"2017-01-01T00:00:00\", \"variable\": \"Dec\", \"value\": 131.59539682539682, \"month\": 12, \"year\": 2017, \"day\": 1, \"date_col\": \"2017-12-01T00:00:00\", \"max_price\": 136.1089705882353, \"max_price_month\": 0}, {\"Year\": \"2017-01-01T00:00:00\", \"variable\": \"Feb\", \"value\": 121.4326356589147, \"month\": 2, \"year\": 2017, \"day\": 1, \"date_col\": \"2017-02-01T00:00:00\", \"max_price\": 136.1089705882353, \"max_price_month\": 0}, {\"Year\": \"2017-01-01T00:00:00\", \"variable\": \"Jan\", \"value\": 119.77834586466172, \"month\": 1, \"year\": 2017, \"day\": 1, \"date_col\": \"2017-01-01T00:00:00\", \"max_price\": 136.1089705882353, \"max_price_month\": 0}, {\"Year\": \"2017-01-01T00:00:00\", \"variable\": \"Jul\", \"value\": 133.75087301587303, \"month\": 7, \"year\": 2017, \"day\": 1, \"date_col\": \"2017-07-01T00:00:00\", \"max_price\": 136.1089705882353, \"max_price_month\": 0}, {\"Year\": \"2017-01-01T00:00:00\", \"variable\": \"Jun\", \"value\": 136.1089705882353, \"month\": 6, \"year\": 2017, \"day\": 1, \"date_col\": \"2017-06-01T00:00:00\", \"max_price\": 136.1089705882353, \"max_price_month\": 1}, {\"Year\": \"2017-01-01T00:00:00\", \"variable\": \"Mar\", \"value\": 128.385895522388, \"month\": 3, \"year\": 2017, \"day\": 1, \"date_col\": \"2017-03-01T00:00:00\", \"max_price\": 136.1089705882353, \"max_price_month\": 0}, {\"Year\": \"2017-01-01T00:00:00\", \"variable\": \"May\", \"value\": 135.3287407407407, \"month\": 5, \"year\": 2017, \"day\": 1, \"date_col\": \"2017-05-01T00:00:00\", \"max_price\": 136.1089705882353, \"max_price_month\": 0}, {\"Year\": \"2017-01-01T00:00:00\", \"variable\": \"Nov\", \"value\": 133.0999999999999, \"month\": 11, \"year\": 2017, \"day\": 1, \"date_col\": \"2017-11-01T00:00:00\", \"max_price\": 136.1089705882353, \"max_price_month\": 0}, {\"Year\": \"2017-01-01T00:00:00\", \"variable\": \"Oct\", \"value\": 128.98361538461535, \"month\": 10, \"year\": 2017, \"day\": 1, \"date_col\": \"2017-10-01T00:00:00\", \"max_price\": 136.1089705882353, \"max_price_month\": 0}, {\"Year\": \"2017-01-01T00:00:00\", \"variable\": \"Sep\", \"value\": 129.89082089552235, \"month\": 9, \"year\": 2017, \"day\": 1, \"date_col\": \"2017-09-01T00:00:00\", \"max_price\": 136.1089705882353, \"max_price_month\": 0}, {\"Year\": \"2018-01-01T00:00:00\", \"variable\": \"Apr\", \"value\": 136.69950704225354, \"month\": 4, \"year\": 2018, \"day\": 1, \"date_col\": \"2018-04-01T00:00:00\", \"max_price\": 141.3530935251799, \"max_price_month\": 0}, {\"Year\": \"2018-01-01T00:00:00\", \"variable\": \"Aug\", \"value\": 128.76541353383456, \"month\": 8, \"year\": 2018, \"day\": 1, \"date_col\": \"2018-08-01T00:00:00\", \"max_price\": 141.3530935251799, \"max_price_month\": 0}, {\"Year\": \"2018-01-01T00:00:00\", \"variable\": \"Dec\", \"value\": 124.44843283582084, \"month\": 12, \"year\": 2018, \"day\": 1, \"date_col\": \"2018-12-01T00:00:00\", \"max_price\": 141.3530935251799, \"max_price_month\": 0}, {\"Year\": \"2018-01-01T00:00:00\", \"variable\": \"Feb\", \"value\": 141.3530935251799, \"month\": 2, \"year\": 2018, \"day\": 1, \"date_col\": \"2018-02-01T00:00:00\", \"max_price\": 141.3530935251799, \"max_price_month\": 1}, {\"Year\": \"2018-01-01T00:00:00\", \"variable\": \"Jan\", \"value\": 134.0097637795275, \"month\": 1, \"year\": 2018, \"day\": 1, \"date_col\": \"2018-01-01T00:00:00\", \"max_price\": 141.3530935251799, \"max_price_month\": 0}, {\"Year\": \"2018-01-01T00:00:00\", \"variable\": \"Jul\", \"value\": 131.08281249999996, \"month\": 7, \"year\": 2018, \"day\": 1, \"date_col\": \"2018-07-01T00:00:00\", \"max_price\": 141.3530935251799, \"max_price_month\": 0}, {\"Year\": \"2018-01-01T00:00:00\", \"variable\": \"Jun\", \"value\": 132.05431506849314, \"month\": 6, \"year\": 2018, \"day\": 1, \"date_col\": \"2018-06-01T00:00:00\", \"max_price\": 141.3530935251799, \"max_price_month\": 0}, {\"Year\": \"2018-01-01T00:00:00\", \"variable\": \"Mar\", \"value\": 140.70045454545448, \"month\": 3, \"year\": 2018, \"day\": 1, \"date_col\": \"2018-03-01T00:00:00\", \"max_price\": 141.3530935251799, \"max_price_month\": 0}, {\"Year\": \"2018-01-01T00:00:00\", \"variable\": \"May\", \"value\": 131.0184892086331, \"month\": 5, \"year\": 2018, \"day\": 1, \"date_col\": \"2018-05-01T00:00:00\", \"max_price\": 141.3530935251799, \"max_price_month\": 0}, {\"Year\": \"2018-01-01T00:00:00\", \"variable\": \"Nov\", \"value\": 124.59426356589145, \"month\": 11, \"year\": 2018, \"day\": 1, \"date_col\": \"2018-11-01T00:00:00\", \"max_price\": 141.3530935251799, \"max_price_month\": 0}, {\"Year\": \"2018-01-01T00:00:00\", \"variable\": \"Oct\", \"value\": 127.94311111111114, \"month\": 10, \"year\": 2018, \"day\": 1, \"date_col\": \"2018-10-01T00:00:00\", \"max_price\": 141.3530935251799, \"max_price_month\": 0}, {\"Year\": \"2018-01-01T00:00:00\", \"variable\": \"Sep\", \"value\": 128.65656716417917, \"month\": 9, \"year\": 2018, \"day\": 1, \"date_col\": \"2018-09-01T00:00:00\", \"max_price\": 141.3530935251799, \"max_price_month\": 0}], \"data-2ae12caef0ec594ca6cc8b605eb1855d\": [{\"Year\": \"2004-01-01T00:00:00\", \"variable\": \"Feb\", \"value\": 176.8585294117647, \"month\": 2, \"year\": 2004, \"day\": 1, \"date_col\": \"2004-02-01T00:00:00\", \"max_price\": 176.8585294117647, \"max_price_month\": 1}, {\"Year\": \"2005-01-01T00:00:00\", \"variable\": \"May\", \"value\": 116.51857723577231, \"month\": 5, \"year\": 2005, \"day\": 1, \"date_col\": \"2005-05-01T00:00:00\", \"max_price\": 116.51857723577231, \"max_price_month\": 1}, {\"Year\": \"2006-01-01T00:00:00\", \"variable\": \"Feb\", \"value\": 115.4780073800739, \"month\": 2, \"year\": 2006, \"day\": 1, \"date_col\": \"2006-02-01T00:00:00\", \"max_price\": 115.4780073800739, \"max_price_month\": 1}, {\"Year\": \"2007-01-01T00:00:00\", \"variable\": \"Jul\", \"value\": 105.3419305019305, \"month\": 7, \"year\": 2007, \"day\": 1, \"date_col\": \"2007-07-01T00:00:00\", \"max_price\": 105.3419305019305, \"max_price_month\": 1}, {\"Year\": \"2008-01-01T00:00:00\", \"variable\": \"Feb\", \"value\": 97.15622580645166, \"month\": 2, \"year\": 2008, \"day\": 1, \"date_col\": \"2008-02-01T00:00:00\", \"max_price\": 97.15622580645166, \"max_price_month\": 1}, {\"Year\": \"2009-01-01T00:00:00\", \"variable\": \"May\", \"value\": 89.99515789473686, \"month\": 5, \"year\": 2009, \"day\": 1, \"date_col\": \"2009-05-01T00:00:00\", \"max_price\": 89.99515789473686, \"max_price_month\": 1}, {\"Year\": \"2011-01-01T00:00:00\", \"variable\": \"Dec\", \"value\": 127.42837837837835, \"month\": 12, \"year\": 2011, \"day\": 1, \"date_col\": \"2011-12-01T00:00:00\", \"max_price\": 127.42837837837835, \"max_price_month\": 1}, {\"Year\": \"2012-01-01T00:00:00\", \"variable\": \"Mar\", \"value\": 155.7026724137931, \"month\": 3, \"year\": 2012, \"day\": 1, \"date_col\": \"2012-03-01T00:00:00\", \"max_price\": 155.7026724137931, \"max_price_month\": 1}, {\"Year\": \"2013-01-01T00:00:00\", \"variable\": \"Dec\", \"value\": 152.78152, \"month\": 12, \"year\": 2013, \"day\": 1, \"date_col\": \"2013-12-01T00:00:00\", \"max_price\": 152.78152, \"max_price_month\": 1}, {\"Year\": \"2014-01-01T00:00:00\", \"variable\": \"Dec\", \"value\": 247.43409836065572, \"month\": 12, \"year\": 2014, \"day\": 1, \"date_col\": \"2014-12-01T00:00:00\", \"max_price\": 247.43409836065572, \"max_price_month\": 1}, {\"Year\": \"2015-01-01T00:00:00\", \"variable\": \"Mar\", \"value\": 246.97152173913048, \"month\": 3, \"year\": 2015, \"day\": 1, \"date_col\": \"2015-03-01T00:00:00\", \"max_price\": 246.97152173913048, \"max_price_month\": 1}, {\"Year\": \"2016-01-01T00:00:00\", \"variable\": \"Mar\", \"value\": 162.55872000000002, \"month\": 3, \"year\": 2016, \"day\": 1, \"date_col\": \"2016-03-01T00:00:00\", \"max_price\": 162.55872000000002, \"max_price_month\": 1}, {\"Year\": \"2017-01-01T00:00:00\", \"variable\": \"Jun\", \"value\": 136.1089705882353, \"month\": 6, \"year\": 2017, \"day\": 1, \"date_col\": \"2017-06-01T00:00:00\", \"max_price\": 136.1089705882353, \"max_price_month\": 1}, {\"Year\": \"2018-01-01T00:00:00\", \"variable\": \"Feb\", \"value\": 141.3530935251799, \"month\": 2, \"year\": 2018, \"day\": 1, \"date_col\": \"2018-02-01T00:00:00\", \"max_price\": 141.3530935251799, \"max_price_month\": 1}]}}, {\"mode\": \"vega-lite\"});\n",
       "</script>"
      ],
      "text/plain": [
       "alt.LayerChart(...)"
      ]
     },
     "execution_count": 20,
     "metadata": {},
     "output_type": "execute_result"
    }
   ],
   "source": [
    "prices_per_month = alt.Chart(price_per_month_df).mark_point().encode(\n",
    "     color = 'max_price_month',\n",
    "    x = alt.X(\n",
    "        'date_col', \n",
    "        axis = alt.Axis(\n",
    "            title = 'Date',\n",
    "            titleFontSize = 14\n",
    "            ),\n",
    "            ),\n",
    "    y = alt.Y(\n",
    "        'value', \n",
    "        axis = alt.Axis(\n",
    "            title = 'Average Price',\n",
    "            titleFontSize = 14\n",
    "            )\n",
    "        )\n",
    "    ).properties(\n",
    "            title = {\n",
    "                \"text\" : \"Average Price Per Month\",\n",
    "                \"subtitle\" : \"Average Monthly Beef Cattle Price in Alabama, 2004-2018\"\n",
    "                },\n",
    "            width = 2000\n",
    "    )\n",
    "\n",
    "text = (\n",
    "    alt.Chart(price_per_month_df.query(\"max_price_month == 1\"))\n",
    "    .mark_text(dy=-15, color=\"red\")\n",
    "    .encode(x=alt.X(\"date_col\"), y=alt.Y(\"value\"), text=alt.Text(\"variable\"))\n",
    ")\n",
    "\n",
    "(prices_per_month + text)"
   ]
  }
 ],
 "metadata": {
  "kernelspec": {
   "display_name": "Python 3",
   "language": "python",
   "name": "python3"
  },
  "language_info": {
   "codemirror_mode": {
    "name": "ipython",
    "version": 3
   },
   "file_extension": ".py",
   "mimetype": "text/x-python",
   "name": "python",
   "nbconvert_exporter": "python",
   "pygments_lexer": "ipython3",
   "version": "3.8.5"
  }
 },
 "nbformat": 4,
 "nbformat_minor": 5
}
