{
 "cells": [
  {
   "cell_type": "code",
   "execution_count": 1,
   "id": "promotional-daniel",
   "metadata": {},
   "outputs": [],
   "source": [
    "# imports\n",
    "import os\n",
    "import glob\n",
    "import pandas as pd \n",
    "import altair as alt\n",
    "# import altair_viewer"
   ]
  },
  {
   "cell_type": "code",
   "execution_count": 2,
   "id": "dying-occasions",
   "metadata": {},
   "outputs": [
    {
     "name": "stdout",
     "output_type": "stream",
     "text": [
      "C:/Users/jacob.hester/Documents/Python_scripts/Historical_beef_cattle_prices/data/processed\\2004_prices.csv\n",
      "C:/Users/jacob.hester/Documents/Python_scripts/Historical_beef_cattle_prices/data/processed\\2005_prices.csv\n",
      "C:/Users/jacob.hester/Documents/Python_scripts/Historical_beef_cattle_prices/data/processed\\2006_prices.csv\n",
      "C:/Users/jacob.hester/Documents/Python_scripts/Historical_beef_cattle_prices/data/processed\\2007_prices.csv\n",
      "C:/Users/jacob.hester/Documents/Python_scripts/Historical_beef_cattle_prices/data/processed\\2008_prices.csv\n",
      "C:/Users/jacob.hester/Documents/Python_scripts/Historical_beef_cattle_prices/data/processed\\2009_prices.csv\n",
      "C:/Users/jacob.hester/Documents/Python_scripts/Historical_beef_cattle_prices/data/processed\\2011_prices.csv\n",
      "C:/Users/jacob.hester/Documents/Python_scripts/Historical_beef_cattle_prices/data/processed\\2012_prices.csv\n",
      "C:/Users/jacob.hester/Documents/Python_scripts/Historical_beef_cattle_prices/data/processed\\2013_prices.csv\n",
      "C:/Users/jacob.hester/Documents/Python_scripts/Historical_beef_cattle_prices/data/processed\\2014_prices.csv\n",
      "C:/Users/jacob.hester/Documents/Python_scripts/Historical_beef_cattle_prices/data/processed\\2015_prices.csv\n",
      "C:/Users/jacob.hester/Documents/Python_scripts/Historical_beef_cattle_prices/data/processed\\2016_prices.csv\n",
      "C:/Users/jacob.hester/Documents/Python_scripts/Historical_beef_cattle_prices/data/processed\\2017_prices.csv\n",
      "C:/Users/jacob.hester/Documents/Python_scripts/Historical_beef_cattle_prices/data/processed\\2018_prices.csv\n"
     ]
    }
   ],
   "source": [
    "# load in dataframes and concatenate together\n",
    "path = (\n",
    "    \"C:/Users/jacob.hester/Documents/Python_scripts/\"\\\n",
    "    \"Historical_beef_cattle_prices/data/processed\"\n",
    "    )\n",
    "raw_files_path = os.path.join(path, \"*.csv\")\n",
    "df_list = []\n",
    "for f in glob.glob(raw_files_path):\n",
    "    print(f)\n",
    "    df = pd.read_csv(f, index_col=None, header=0)\n",
    "    df_list.append(df)\n",
    "df = pd.concat(df_list, ignore_index = True)"
   ]
  },
  {
   "cell_type": "code",
   "execution_count": 3,
   "id": "sudden-grove",
   "metadata": {},
   "outputs": [
    {
     "data": {
      "text/plain": [
       "Year              int64\n",
       "Type             object\n",
       "Weight_group     object\n",
       "Hd Cnt           object\n",
       "Jan             float64\n",
       "Feb             float64\n",
       "Mar             float64\n",
       "Apr             float64\n",
       "May             float64\n",
       "Jun             float64\n",
       "Jul             float64\n",
       "Aug             float64\n",
       "Sep             float64\n",
       "Oct             float64\n",
       "Nov             float64\n",
       "Dec             float64\n",
       "Avg             float64\n",
       "dtype: object"
      ]
     },
     "execution_count": 3,
     "metadata": {},
     "output_type": "execute_result"
    }
   ],
   "source": [
    "# check data types\n",
    "df.dtypes"
   ]
  },
  {
   "cell_type": "code",
   "execution_count": 4,
   "id": "convenient-omaha",
   "metadata": {},
   "outputs": [],
   "source": [
    "# rename Hd Cnt col and change type \n",
    "# NOTE: column was read in as object type because of commas in head counts\n",
    "df.rename(columns = {'Hd Cnt' : 'Hd_cnt'}, inplace = True)\n",
    "df['Hd_cnt'] = df['Hd_cnt'].str.replace(',', '')\n",
    "data_types_dictionary = {'Hd_cnt' : float}\n",
    "df = df.astype(data_types_dictionary)"
   ]
  },
  {
   "cell_type": "code",
   "execution_count": 5,
   "id": "settled-european",
   "metadata": {},
   "outputs": [
    {
     "data": {
      "text/plain": [
       "Year               0\n",
       "Type               0\n",
       "Weight_group       0\n",
       "Hd_cnt             0\n",
       "Jan             1546\n",
       "Feb             1527\n",
       "Mar             1468\n",
       "Apr             1444\n",
       "May             1533\n",
       "Jun             1533\n",
       "Jul             1685\n",
       "Aug             1544\n",
       "Sep             1557\n",
       "Oct             1459\n",
       "Nov             1553\n",
       "Dec             1683\n",
       "Avg                0\n",
       "dtype: int64"
      ]
     },
     "execution_count": 5,
     "metadata": {},
     "output_type": "execute_result"
    }
   ],
   "source": [
    "# check for missing values \n",
    "df.isnull().sum()"
   ]
  },
  {
   "cell_type": "code",
   "execution_count": 6,
   "id": "chemical-article",
   "metadata": {},
   "outputs": [],
   "source": [
    "# look at overall sales per year \n",
    "sales_per_yr_df = df.groupby(['Year'])['Hd_cnt'].sum()\n",
    "sales_per_yr_df = pd.DataFrame(sales_per_yr_df)\n",
    "sales_per_yr_df.reset_index(inplace = True)\n",
    "\n",
    "# change Year to datetime type \n",
    "sales_per_yr_df['Year'] = pd.to_datetime(\n",
    "    sales_per_yr_df['Year'].astype(str), format='%Y'\n",
    "    )"
   ]
  },
  {
   "cell_type": "code",
   "execution_count": 7,
   "id": "formed-chester",
   "metadata": {},
   "outputs": [
    {
     "data": {
      "text/html": [
       "\n",
       "<div id=\"altair-viz-1655eabe7095497984d45fc38dc96133\"></div>\n",
       "<script type=\"text/javascript\">\n",
       "  (function(spec, embedOpt){\n",
       "    let outputDiv = document.currentScript.previousElementSibling;\n",
       "    if (outputDiv.id !== \"altair-viz-1655eabe7095497984d45fc38dc96133\") {\n",
       "      outputDiv = document.getElementById(\"altair-viz-1655eabe7095497984d45fc38dc96133\");\n",
       "    }\n",
       "    const paths = {\n",
       "      \"vega\": \"https://cdn.jsdelivr.net/npm//vega@5?noext\",\n",
       "      \"vega-lib\": \"https://cdn.jsdelivr.net/npm//vega-lib?noext\",\n",
       "      \"vega-lite\": \"https://cdn.jsdelivr.net/npm//vega-lite@4.8.1?noext\",\n",
       "      \"vega-embed\": \"https://cdn.jsdelivr.net/npm//vega-embed@6?noext\",\n",
       "    };\n",
       "\n",
       "    function loadScript(lib) {\n",
       "      return new Promise(function(resolve, reject) {\n",
       "        var s = document.createElement('script');\n",
       "        s.src = paths[lib];\n",
       "        s.async = true;\n",
       "        s.onload = () => resolve(paths[lib]);\n",
       "        s.onerror = () => reject(`Error loading script: ${paths[lib]}`);\n",
       "        document.getElementsByTagName(\"head\")[0].appendChild(s);\n",
       "      });\n",
       "    }\n",
       "\n",
       "    function showError(err) {\n",
       "      outputDiv.innerHTML = `<div class=\"error\" style=\"color:red;\">${err}</div>`;\n",
       "      throw err;\n",
       "    }\n",
       "\n",
       "    function displayChart(vegaEmbed) {\n",
       "      vegaEmbed(outputDiv, spec, embedOpt)\n",
       "        .catch(err => showError(`Javascript Error: ${err.message}<br>This usually means there's a typo in your chart specification. See the javascript console for the full traceback.`));\n",
       "    }\n",
       "\n",
       "    if(typeof define === \"function\" && define.amd) {\n",
       "      requirejs.config({paths});\n",
       "      require([\"vega-embed\"], displayChart, err => showError(`Error loading script: ${err.message}`));\n",
       "    } else if (typeof vegaEmbed === \"function\") {\n",
       "      displayChart(vegaEmbed);\n",
       "    } else {\n",
       "      loadScript(\"vega\")\n",
       "        .then(() => loadScript(\"vega-lite\"))\n",
       "        .then(() => loadScript(\"vega-embed\"))\n",
       "        .catch(showError)\n",
       "        .then(() => displayChart(vegaEmbed));\n",
       "    }\n",
       "  })({\"config\": {\"view\": {\"continuousWidth\": 400, \"continuousHeight\": 300}, \"axisX\": {\"titleX\": 350, \"titleY\": 30}, \"axisY\": {\"titleAngle\": 0, \"titleX\": -100}, \"title\": {\"fontSize\": 18}}, \"data\": {\"name\": \"data-5ef0d256b55261ccc17a5012c5f8abd4\"}, \"mark\": {\"type\": \"bar\", \"size\": 20}, \"encoding\": {\"x\": {\"type\": \"temporal\", \"axis\": {\"titleFontSize\": 14}, \"field\": \"Year\", \"scale\": {\"domain\": [\"2003-01-01\", \"2019-01-01\"]}}, \"y\": {\"type\": \"quantitative\", \"axis\": {\"title\": \"Head Count\", \"titleFontSize\": 14}, \"field\": \"Hd_cnt\"}}, \"title\": {\"text\": \"Overall Sales Per Year\", \"subtitle\": \"Beef Cattle Sales in Alabama\"}, \"width\": 700, \"$schema\": \"https://vega.github.io/schema/vega-lite/v4.8.1.json\", \"datasets\": {\"data-5ef0d256b55261ccc17a5012c5f8abd4\": [{\"Year\": \"2004-01-01T00:00:00\", \"Hd_cnt\": 258941.0}, {\"Year\": \"2005-01-01T00:00:00\", \"Hd_cnt\": 329768.0}, {\"Year\": \"2006-01-01T00:00:00\", \"Hd_cnt\": 354616.0}, {\"Year\": \"2007-01-01T00:00:00\", \"Hd_cnt\": 338609.0}, {\"Year\": \"2008-01-01T00:00:00\", \"Hd_cnt\": 288527.0}, {\"Year\": \"2009-01-01T00:00:00\", \"Hd_cnt\": 288644.0}, {\"Year\": \"2011-01-01T00:00:00\", \"Hd_cnt\": 206549.0}, {\"Year\": \"2012-01-01T00:00:00\", \"Hd_cnt\": 184644.0}, {\"Year\": \"2013-01-01T00:00:00\", \"Hd_cnt\": 173344.0}, {\"Year\": \"2014-01-01T00:00:00\", \"Hd_cnt\": 234283.0}, {\"Year\": \"2015-01-01T00:00:00\", \"Hd_cnt\": 189736.0}, {\"Year\": \"2016-01-01T00:00:00\", \"Hd_cnt\": 212168.0}, {\"Year\": \"2017-01-01T00:00:00\", \"Hd_cnt\": 250606.0}, {\"Year\": \"2018-01-01T00:00:00\", \"Hd_cnt\": 242321.0}]}}, {\"mode\": \"vega-lite\"});\n",
       "</script>"
      ],
      "text/plain": [
       "alt.Chart(...)"
      ]
     },
     "execution_count": 7,
     "metadata": {},
     "output_type": "execute_result"
    }
   ],
   "source": [
    "# sales per year visual\n",
    "# alt.renderers.enable('altair_viewer')\n",
    "\n",
    "# add x index values for visual\n",
    "x_year_domain = ['2003-01-01', '2019-01-01']\n",
    "sales_per_year = alt.Chart(sales_per_yr_df).mark_bar(size = 20).encode(\n",
    "    x = alt.X(\n",
    "        'Year', \n",
    "        axis = alt.Axis(\n",
    "            titleFontSize = 14\n",
    "            ),\n",
    "        scale = alt.Scale(domain = x_year_domain)\n",
    "            ),\n",
    "    y = alt.Y(\n",
    "        'Hd_cnt', \n",
    "        axis = alt.Axis(\n",
    "            title = 'Head Count',\n",
    "            titleFontSize = 14\n",
    "            )\n",
    "        )\n",
    "    ).properties(\n",
    "            title = {\n",
    "                \"text\" : \"Overall Sales Per Year\",\n",
    "                \"subtitle\" : \"Beef Cattle Sales in Alabama\"\n",
    "                },\n",
    "            width = 700\n",
    "    ).configure_axisY(\n",
    "        titleAngle = 0,\n",
    "        titleX = -100,\n",
    "    ).configure_axisX(\n",
    "        titleX = 350,\n",
    "        titleY = 30\n",
    "    ).configure_title(\n",
    "        fontSize = 18   \n",
    "    )   \n",
    "sales_per_year"
   ]
  },
  {
   "cell_type": "code",
   "execution_count": 8,
   "id": "periodic-following",
   "metadata": {},
   "outputs": [
    {
     "data": {
      "text/html": [
       "\n",
       "<div id=\"altair-viz-949699e20a7e4e05913e41090ab0319a\"></div>\n",
       "<script type=\"text/javascript\">\n",
       "  (function(spec, embedOpt){\n",
       "    let outputDiv = document.currentScript.previousElementSibling;\n",
       "    if (outputDiv.id !== \"altair-viz-949699e20a7e4e05913e41090ab0319a\") {\n",
       "      outputDiv = document.getElementById(\"altair-viz-949699e20a7e4e05913e41090ab0319a\");\n",
       "    }\n",
       "    const paths = {\n",
       "      \"vega\": \"https://cdn.jsdelivr.net/npm//vega@5?noext\",\n",
       "      \"vega-lib\": \"https://cdn.jsdelivr.net/npm//vega-lib?noext\",\n",
       "      \"vega-lite\": \"https://cdn.jsdelivr.net/npm//vega-lite@4.8.1?noext\",\n",
       "      \"vega-embed\": \"https://cdn.jsdelivr.net/npm//vega-embed@6?noext\",\n",
       "    };\n",
       "\n",
       "    function loadScript(lib) {\n",
       "      return new Promise(function(resolve, reject) {\n",
       "        var s = document.createElement('script');\n",
       "        s.src = paths[lib];\n",
       "        s.async = true;\n",
       "        s.onload = () => resolve(paths[lib]);\n",
       "        s.onerror = () => reject(`Error loading script: ${paths[lib]}`);\n",
       "        document.getElementsByTagName(\"head\")[0].appendChild(s);\n",
       "      });\n",
       "    }\n",
       "\n",
       "    function showError(err) {\n",
       "      outputDiv.innerHTML = `<div class=\"error\" style=\"color:red;\">${err}</div>`;\n",
       "      throw err;\n",
       "    }\n",
       "\n",
       "    function displayChart(vegaEmbed) {\n",
       "      vegaEmbed(outputDiv, spec, embedOpt)\n",
       "        .catch(err => showError(`Javascript Error: ${err.message}<br>This usually means there's a typo in your chart specification. See the javascript console for the full traceback.`));\n",
       "    }\n",
       "\n",
       "    if(typeof define === \"function\" && define.amd) {\n",
       "      requirejs.config({paths});\n",
       "      require([\"vega-embed\"], displayChart, err => showError(`Error loading script: ${err.message}`));\n",
       "    } else if (typeof vegaEmbed === \"function\") {\n",
       "      displayChart(vegaEmbed);\n",
       "    } else {\n",
       "      loadScript(\"vega\")\n",
       "        .then(() => loadScript(\"vega-lite\"))\n",
       "        .then(() => loadScript(\"vega-embed\"))\n",
       "        .catch(showError)\n",
       "        .then(() => displayChart(vegaEmbed));\n",
       "    }\n",
       "  })({\"config\": {\"view\": {\"continuousWidth\": 400, \"continuousHeight\": 300}, \"axisX\": {\"titleX\": 350, \"titleY\": 30}, \"axisY\": {\"titleAngle\": 0, \"titleX\": -100}, \"title\": {\"fontSize\": 18}}, \"data\": {\"name\": \"data-e739ef83bedfe36fb09988c3c8742a50\"}, \"mark\": {\"type\": \"bar\", \"size\": 20}, \"encoding\": {\"x\": {\"type\": \"temporal\", \"axis\": {\"titleFontSize\": 14}, \"field\": \"Year\", \"scale\": {\"domain\": [\"2003-01-01\", \"2019-01-01\"]}}, \"y\": {\"type\": \"quantitative\", \"axis\": {\"title\": \"Average Price\", \"titleFontSize\": 14}, \"field\": \"Avg\"}}, \"title\": {\"text\": \"Average Price Per Year\", \"subtitle\": \"Beef Cattle Sales in Alabama\"}, \"width\": 700, \"$schema\": \"https://vega.github.io/schema/vega-lite/v4.8.1.json\", \"datasets\": {\"data-e739ef83bedfe36fb09988c3c8742a50\": [{\"Year\": \"2004-01-01T00:00:00\", \"Avg\": 128.2083571428572}, {\"Year\": \"2005-01-01T00:00:00\", \"Avg\": 107.49139364303173}, {\"Year\": \"2006-01-01T00:00:00\", \"Avg\": 104.24406542056074}, {\"Year\": \"2007-01-01T00:00:00\", \"Avg\": 97.0387631027253}, {\"Year\": \"2008-01-01T00:00:00\", \"Avg\": 88.2503890160183}, {\"Year\": \"2009-01-01T00:00:00\", \"Avg\": 82.23652777777788}, {\"Year\": \"2011-01-01T00:00:00\", \"Avg\": 113.79394329896905}, {\"Year\": \"2012-01-01T00:00:00\", \"Avg\": 137.0875903614458}, {\"Year\": \"2013-01-01T00:00:00\", \"Avg\": 135.43298913043486}, {\"Year\": \"2014-01-01T00:00:00\", \"Avg\": 202.40836257309942}, {\"Year\": \"2015-01-01T00:00:00\", \"Avg\": 211.95822085889563}, {\"Year\": \"2016-01-01T00:00:00\", \"Avg\": 127.32994186046515}, {\"Year\": \"2017-01-01T00:00:00\", \"Avg\": 126.7035294117646}, {\"Year\": \"2018-01-01T00:00:00\", \"Avg\": 129.40519999999998}]}}, {\"mode\": \"vega-lite\"});\n",
       "</script>"
      ],
      "text/plain": [
       "alt.Chart(...)"
      ]
     },
     "execution_count": 8,
     "metadata": {},
     "output_type": "execute_result"
    }
   ],
   "source": [
    "# look at average overall prices per year\n",
    "prices_per_yr_df = df.groupby(['Year'])['Avg'].mean()\n",
    "prices_per_yr_df = pd.DataFrame(prices_per_yr_df)\n",
    "prices_per_yr_df.reset_index(inplace = True)\n",
    "prices_per_yr_df['Year'] = pd.to_datetime(\n",
    "    prices_per_yr_df['Year'].astype(str), format='%Y'\n",
    "    )\n",
    "prices_per_yr_df.head()\n",
    "\n",
    "prices_per_year = alt.Chart(prices_per_yr_df).mark_bar(size = 20).encode(\n",
    "    x = alt.X(\n",
    "        'Year', \n",
    "        axis = alt.Axis(\n",
    "            titleFontSize = 14\n",
    "            ),\n",
    "        scale = alt.Scale(domain = x_year_domain)\n",
    "            ),\n",
    "    y = alt.Y(\n",
    "        'Avg', \n",
    "        axis = alt.Axis(\n",
    "            title = 'Average Price',\n",
    "            titleFontSize = 14\n",
    "            )\n",
    "        )\n",
    "    ).properties(\n",
    "            title = {\n",
    "                \"text\" : \"Average Price Per Year\",\n",
    "                \"subtitle\" : \"Beef Cattle Sales in Alabama\"\n",
    "                },\n",
    "            width = 700\n",
    "    ).configure_axisY(\n",
    "        titleAngle = 0,\n",
    "        titleX = -100,\n",
    "    ).configure_axisX(\n",
    "        titleX = 350,\n",
    "        titleY = 30\n",
    "    ).configure_title(\n",
    "        fontSize = 18   \n",
    "    )\n",
    "prices_per_year"
   ]
  },
  {
   "cell_type": "code",
   "execution_count": 9,
   "id": "supported-photograph",
   "metadata": {},
   "outputs": [],
   "source": [
    "# look at average prices per month \n",
    "price_per_month_df = pd.melt(\n",
    "    df, \n",
    "    id_vars = ['Year'], \n",
    "    value_vars = ['Jan', 'Feb', 'Mar', 'Apr', 'May', 'Jun', 'Jul', 'Aug', 'Sep', 'Oct', 'Nov', 'Dec']\n",
    ")\n",
    "# start by dropping missing values \n",
    "price_per_month_df = price_per_month_df.dropna()\n",
    "\n",
    "price_per_month_df = price_per_month_df.groupby(['Year', 'variable'])['value'].mean()\n",
    "price_per_month_df = pd.DataFrame(price_per_month_df)\n",
    "price_per_month_df.reset_index(inplace = True)\n",
    "price_per_month_df['Year'] = pd.to_datetime(\n",
    "    price_per_month_df['Year'].astype(str), format='%Y'\n",
    ")"
   ]
  },
  {
   "cell_type": "code",
   "execution_count": 10,
   "id": "acceptable-clinic",
   "metadata": {},
   "outputs": [
    {
     "data": {
      "text/html": [
       "<div>\n",
       "<style scoped>\n",
       "    .dataframe tbody tr th:only-of-type {\n",
       "        vertical-align: middle;\n",
       "    }\n",
       "\n",
       "    .dataframe tbody tr th {\n",
       "        vertical-align: top;\n",
       "    }\n",
       "\n",
       "    .dataframe thead th {\n",
       "        text-align: right;\n",
       "    }\n",
       "</style>\n",
       "<table border=\"1\" class=\"dataframe\">\n",
       "  <thead>\n",
       "    <tr style=\"text-align: right;\">\n",
       "      <th></th>\n",
       "      <th>Year</th>\n",
       "      <th>variable</th>\n",
       "      <th>value</th>\n",
       "    </tr>\n",
       "  </thead>\n",
       "  <tbody>\n",
       "    <tr>\n",
       "      <th>0</th>\n",
       "      <td>2004-01-01</td>\n",
       "      <td>Apr</td>\n",
       "      <td>98.259673</td>\n",
       "    </tr>\n",
       "    <tr>\n",
       "      <th>1</th>\n",
       "      <td>2004-01-01</td>\n",
       "      <td>Aug</td>\n",
       "      <td>111.039098</td>\n",
       "    </tr>\n",
       "    <tr>\n",
       "      <th>2</th>\n",
       "      <td>2004-01-01</td>\n",
       "      <td>Dec</td>\n",
       "      <td>105.845301</td>\n",
       "    </tr>\n",
       "    <tr>\n",
       "      <th>3</th>\n",
       "      <td>2004-01-01</td>\n",
       "      <td>Feb</td>\n",
       "      <td>176.858529</td>\n",
       "    </tr>\n",
       "    <tr>\n",
       "      <th>4</th>\n",
       "      <td>2004-01-01</td>\n",
       "      <td>Jan</td>\n",
       "      <td>125.400099</td>\n",
       "    </tr>\n",
       "  </tbody>\n",
       "</table>\n",
       "</div>"
      ],
      "text/plain": [
       "        Year variable       value\n",
       "0 2004-01-01      Apr   98.259673\n",
       "1 2004-01-01      Aug  111.039098\n",
       "2 2004-01-01      Dec  105.845301\n",
       "3 2004-01-01      Feb  176.858529\n",
       "4 2004-01-01      Jan  125.400099"
      ]
     },
     "execution_count": 10,
     "metadata": {},
     "output_type": "execute_result"
    }
   ],
   "source": [
    "price_per_month_df.head()"
   ]
  }
 ],
 "metadata": {
  "kernelspec": {
   "display_name": "Python 3",
   "language": "python",
   "name": "python3"
  },
  "language_info": {
   "codemirror_mode": {
    "name": "ipython",
    "version": 3
   },
   "file_extension": ".py",
   "mimetype": "text/x-python",
   "name": "python",
   "nbconvert_exporter": "python",
   "pygments_lexer": "ipython3",
   "version": "3.8.5"
  }
 },
 "nbformat": 4,
 "nbformat_minor": 5
}
